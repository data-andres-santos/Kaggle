{
 "cells": [
  {
   "cell_type": "markdown",
   "metadata": {
    "papermill": {
     "duration": 0.029685,
     "end_time": "2020-09-18T13:09:42.708654",
     "exception": false,
     "start_time": "2020-09-18T13:09:42.678969",
     "status": "completed"
    },
    "tags": []
   },
   "source": [
    "# Titanic Competition - Data Visualization & Machine Learning\n",
    "\n",
    "\n",
    "## Introduction\n",
    "**The most famous shipwreck in history**. Is there a pattern between the people who died and the people who survived?\n",
    "\n",
    "![Titanic Infographic](https://images.squarespace-cdn.com/content/v1/5006453fe4b09ef2252ba068/1351660113175-514SN9PXFWB9N2MNB8DV/ke17ZwdGBToddI8pDm48kDJ9qXzk7iAyoryvGQVNA_F7gQa3H78H3Y0txjaiv_0fDoOvxcdMmMKkDsyUqMSsMWxHk725yiiHCCLfrh8O1z5QPOohDIaIeljMHgDF5CVlOqpeNLcJ80NK65_fV7S1UcJGkCP2eEqMWqTLP4RLEZaxwnphfgit-_H6Nuosp50rm0sD-Bab7E9MY8W31A7zMQ/TItanic-Survival-Infographic.jpg?format=1000w)\n",
    "\n",
    "### Imports\n",
    "\n",
    "Import the **data science** and **machine learning** libraries."
   ]
  },
  {
   "cell_type": "code",
   "execution_count": 1,
   "metadata": {
    "_cell_guid": "b1076dfc-b9ad-4769-8c92-a6c4dae69d19",
    "_uuid": "8f2839f25d086af736a60e9eeb907d3b93b6e0e5",
    "execution": {
     "iopub.execute_input": "2020-09-18T13:09:42.779552Z",
     "iopub.status.busy": "2020-09-18T13:09:42.778850Z",
     "iopub.status.idle": "2020-09-18T13:09:45.126079Z",
     "shell.execute_reply": "2020-09-18T13:09:45.124543Z"
    },
    "papermill": {
     "duration": 2.388783,
     "end_time": "2020-09-18T13:09:45.126210",
     "exception": false,
     "start_time": "2020-09-18T13:09:42.737427",
     "status": "completed"
    },
    "tags": []
   },
   "outputs": [],
   "source": [
    "import seaborn as sns \n",
    "import matplotlib\n",
    "import matplotlib.pyplot as plt\n",
    "import numpy as np\n",
    "import pandas as pd\n",
    "from scipy.stats import zscore\n",
    "from datetime import datetime\n",
    "\n",
    "#Machine Learning Packages\n",
    "from sklearn.model_selection import train_test_split\n",
    "from sklearn.linear_model import LogisticRegression\n",
    "from sklearn.svm import SVC\n",
    "from sklearn.neighbors import KNeighborsClassifier\n",
    "from sklearn.ensemble import RandomForestClassifier\n",
    "from sklearn.preprocessing import StandardScaler\n",
    "from sklearn.linear_model import Perceptron\n",
    "from sklearn.neural_network import MLPClassifier\n",
    "from xgboost import XGBClassifier\n",
    "from sklearn.metrics import classification_report, confusion_matrix, accuracy_score\n",
    "from sklearn.model_selection import GridSearchCV, cross_val_score, StratifiedKFold, learning_curve\n",
    "from sklearn.tree import DecisionTreeClassifier\n",
    "from sklearn.ensemble import RandomForestClassifier, AdaBoostClassifier, GradientBoostingClassifier, ExtraTreesClassifier, VotingClassifier\n",
    "from sklearn.discriminant_analysis import LinearDiscriminantAnalysis"
   ]
  },
  {
   "cell_type": "markdown",
   "metadata": {
    "papermill": {
     "duration": 0.030385,
     "end_time": "2020-09-18T13:09:45.186752",
     "exception": false,
     "start_time": "2020-09-18T13:09:45.156367",
     "status": "completed"
    },
    "tags": []
   },
   "source": [
    "\n",
    "### From .csv to DataFrame\n",
    "Read the data and import to a DataFrame."
   ]
  },
  {
   "cell_type": "code",
   "execution_count": 2,
   "metadata": {
    "_cell_guid": "79c7e3d0-c299-4dcb-8224-4455121ee9b0",
    "_uuid": "d629ff2d2480ee46fbb7e2d37f6b5fab8052498a",
    "execution": {
     "iopub.execute_input": "2020-09-18T13:09:45.256235Z",
     "iopub.status.busy": "2020-09-18T13:09:45.255525Z",
     "iopub.status.idle": "2020-09-18T13:09:45.281515Z",
     "shell.execute_reply": "2020-09-18T13:09:45.280915Z"
    },
    "papermill": {
     "duration": 0.064086,
     "end_time": "2020-09-18T13:09:45.281623",
     "exception": false,
     "start_time": "2020-09-18T13:09:45.217537",
     "status": "completed"
    },
    "tags": []
   },
   "outputs": [],
   "source": [
    "df_gender_submission = pd.read_csv('../input/titanic/gender_submission.csv')\n",
    "df_train = pd.read_csv('../input/titanic/train.csv')\n",
    "df_test = pd.read_csv('../input/titanic/test.csv')"
   ]
  },
  {
   "cell_type": "markdown",
   "metadata": {
    "papermill": {
     "duration": 0.030422,
     "end_time": "2020-09-18T13:09:45.343313",
     "exception": false,
     "start_time": "2020-09-18T13:09:45.312891",
     "status": "completed"
    },
    "tags": []
   },
   "source": [
    "### Explore the DataFrames\n",
    "\n",
    "Basic exploration of DataFrames: data, datatypes and data info."
   ]
  },
  {
   "cell_type": "code",
   "execution_count": 3,
   "metadata": {
    "execution": {
     "iopub.execute_input": "2020-09-18T13:09:45.410848Z",
     "iopub.status.busy": "2020-09-18T13:09:45.410065Z",
     "iopub.status.idle": "2020-09-18T13:09:45.414129Z",
     "shell.execute_reply": "2020-09-18T13:09:45.413563Z"
    },
    "papermill": {
     "duration": 0.03932,
     "end_time": "2020-09-18T13:09:45.414235",
     "exception": false,
     "start_time": "2020-09-18T13:09:45.374915",
     "status": "completed"
    },
    "tags": []
   },
   "outputs": [],
   "source": [
    "## Print the 5 first rows of the DataFrame\n",
    "#df_train.head()\n",
    "#df_test.head()\n",
    "\n",
    "## Print the shape\n",
    "#df_train.shape\n",
    "#df_test.shape\n",
    "\n",
    "## Print the datatypes\n",
    "#df_train.dtypes\n",
    "#df_test.dtypes\n",
    "\n",
    "## Info of DataFrame\n",
    "#df_train.info()\n",
    "#df_test.info()\n",
    "\n",
    "## Describe the DataFrame. Basic descriptive stats\n",
    "#df_train.describe()\n",
    "#df_test.describe()\n",
    "\n",
    "## Null data amout\n",
    "#print(pd.isnull(df_train).sum())\n",
    "#print(pd.isnull(df_test).sum())\n"
   ]
  },
  {
   "cell_type": "markdown",
   "metadata": {
    "papermill": {
     "duration": 0.031493,
     "end_time": "2020-09-18T13:09:45.476110",
     "exception": false,
     "start_time": "2020-09-18T13:09:45.444617",
     "status": "completed"
    },
    "tags": []
   },
   "source": [
    "## Data Wrangling\n",
    "\n",
    "Adjust the data to be able to be processed.\n",
    "\n",
    "### Parse sex to numbers"
   ]
  },
  {
   "cell_type": "code",
   "execution_count": 4,
   "metadata": {
    "execution": {
     "iopub.execute_input": "2020-09-18T13:09:45.551917Z",
     "iopub.status.busy": "2020-09-18T13:09:45.548631Z",
     "iopub.status.idle": "2020-09-18T13:09:45.555453Z",
     "shell.execute_reply": "2020-09-18T13:09:45.555936Z"
    },
    "papermill": {
     "duration": 0.049541,
     "end_time": "2020-09-18T13:09:45.556100",
     "exception": false,
     "start_time": "2020-09-18T13:09:45.506559",
     "status": "completed"
    },
    "tags": []
   },
   "outputs": [],
   "source": [
    "df_train['Sex'].replace(['female','male'],[0,1],inplace=True)\n",
    "df_test['Sex'].replace(['female','male'],[0,1],inplace=True)"
   ]
  },
  {
   "cell_type": "markdown",
   "metadata": {
    "papermill": {
     "duration": 0.029421,
     "end_time": "2020-09-18T13:09:45.614745",
     "exception": false,
     "start_time": "2020-09-18T13:09:45.585324",
     "status": "completed"
    },
    "tags": []
   },
   "source": [
    "#### Print the death by sex"
   ]
  },
  {
   "cell_type": "code",
   "execution_count": 5,
   "metadata": {
    "execution": {
     "iopub.execute_input": "2020-09-18T13:09:45.680879Z",
     "iopub.status.busy": "2020-09-18T13:09:45.680100Z",
     "iopub.status.idle": "2020-09-18T13:09:45.876937Z",
     "shell.execute_reply": "2020-09-18T13:09:45.877581Z"
    },
    "papermill": {
     "duration": 0.23334,
     "end_time": "2020-09-18T13:09:45.877746",
     "exception": false,
     "start_time": "2020-09-18T13:09:45.644406",
     "status": "completed"
    },
    "tags": []
   },
   "outputs": [
    {
     "data": {
      "image/png": "[encoded data removed]",
      "text/plain": [
       "<Figure size 432x288 with 1 Axes>"
      ]
     },
     "metadata": {
      "needs_background": "light"
     },
     "output_type": "display_data"
    }
   ],
   "source": [
    "fig, ax = plt.subplots()\n",
    "sns.countplot(x='Sex', hue ='Survived', data = df_train)\n",
    "new_xtick = ['Females', 'Males']\n",
    "ax.set_xticklabels(new_xtick)\n",
    "new_legend = ['Deceased', 'Survivors']\n",
    "plt.legend(new_legend)\n",
    "plt.show()"
   ]
  },
  {
   "cell_type": "markdown",
   "metadata": {
    "papermill": {
     "duration": 0.036873,
     "end_time": "2020-09-18T13:09:45.951518",
     "exception": false,
     "start_time": "2020-09-18T13:09:45.914645",
     "status": "completed"
    },
    "tags": []
   },
   "source": [
    "### Parse shipping data to numbers"
   ]
  },
  {
   "cell_type": "code",
   "execution_count": 6,
   "metadata": {
    "execution": {
     "iopub.execute_input": "2020-09-18T13:09:46.039646Z",
     "iopub.status.busy": "2020-09-18T13:09:46.037298Z",
     "iopub.status.idle": "2020-09-18T13:09:46.040509Z",
     "shell.execute_reply": "2020-09-18T13:09:46.041096Z"
    },
    "papermill": {
     "duration": 0.052609,
     "end_time": "2020-09-18T13:09:46.041268",
     "exception": false,
     "start_time": "2020-09-18T13:09:45.988659",
     "status": "completed"
    },
    "tags": []
   },
   "outputs": [],
   "source": [
    "df_train['Embarked'].replace(['Q','S', 'C'],[0,1,2],inplace=True)\n",
    "df_test['Embarked'].replace(['Q','S', 'C'],[0,1,2],inplace=True)"
   ]
  },
  {
   "cell_type": "markdown",
   "metadata": {
    "papermill": {
     "duration": 0.030279,
     "end_time": "2020-09-18T13:09:46.106320",
     "exception": false,
     "start_time": "2020-09-18T13:09:46.076041",
     "status": "completed"
    },
    "tags": []
   },
   "source": [
    "### Display death by embarked city"
   ]
  },
  {
   "cell_type": "code",
   "execution_count": 7,
   "metadata": {
    "execution": {
     "iopub.execute_input": "2020-09-18T13:09:46.183399Z",
     "iopub.status.busy": "2020-09-18T13:09:46.182112Z",
     "iopub.status.idle": "2020-09-18T13:09:46.400139Z",
     "shell.execute_reply": "2020-09-18T13:09:46.400864Z"
    },
    "papermill": {
     "duration": 0.263377,
     "end_time": "2020-09-18T13:09:46.401133",
     "exception": false,
     "start_time": "2020-09-18T13:09:46.137756",
     "status": "completed"
    },
    "tags": []
   },
   "outputs": [
    {
     "data": {
      "image/png": "[encoded data removed]",
      "text/plain": [
       "<Figure size 432x288 with 1 Axes>"
      ]
     },
     "metadata": {
      "needs_background": "light"
     },
     "output_type": "display_data"
    }
   ],
   "source": [
    "fig, ax = plt.subplots()\n",
    "sns.countplot(x='Embarked',hue='Survived',data=df_train)\n",
    "new_xtick = ['Q','S', 'C']\n",
    "ax.set_xticklabels(new_xtick)\n",
    "new_legend = ['Deceased', 'Survivors']\n",
    "plt.legend(new_legend)\n",
    "plt.show()"
   ]
  },
  {
   "cell_type": "markdown",
   "metadata": {
    "papermill": {
     "duration": 0.057831,
     "end_time": "2020-09-18T13:09:46.516602",
     "exception": false,
     "start_time": "2020-09-18T13:09:46.458771",
     "status": "completed"
    },
    "tags": []
   },
   "source": [
    "### Replace null age values for the average age"
   ]
  },
  {
   "cell_type": "code",
   "execution_count": 8,
   "metadata": {
    "execution": {
     "iopub.execute_input": "2020-09-18T13:09:46.633757Z",
     "iopub.status.busy": "2020-09-18T13:09:46.632656Z",
     "iopub.status.idle": "2020-09-18T13:09:46.640762Z",
     "shell.execute_reply": "2020-09-18T13:09:46.642145Z"
    },
    "papermill": {
     "duration": 0.070829,
     "end_time": "2020-09-18T13:09:46.642335",
     "exception": false,
     "start_time": "2020-09-18T13:09:46.571506",
     "status": "completed"
    },
    "tags": []
   },
   "outputs": [],
   "source": [
    "avg_age = ((df_train[\"Age\"].mean() * df_train[\"Age\"].shape[0]) + (df_test[\"Age\"].mean() * df_test[\"Age\"].shape[0]))/ (df_train[\"Age\"].shape[0] + df_test[\"Age\"].shape[0])\n",
    "avg_age = np.round(avg_age)\n",
    "\n",
    "df_train['Age'] = df_train['Age'].replace(np.nan, avg_age)\n",
    "df_test['Age'] = df_test['Age'].replace(np.nan, avg_age)"
   ]
  },
  {
   "cell_type": "markdown",
   "metadata": {
    "papermill": {
     "duration": 0.054765,
     "end_time": "2020-09-18T13:09:46.754858",
     "exception": false,
     "start_time": "2020-09-18T13:09:46.700093",
     "status": "completed"
    },
    "tags": []
   },
   "source": [
    "### Segment the groups by age"
   ]
  },
  {
   "cell_type": "code",
   "execution_count": 9,
   "metadata": {
    "execution": {
     "iopub.execute_input": "2020-09-18T13:09:46.893480Z",
     "iopub.status.busy": "2020-09-18T13:09:46.892597Z",
     "iopub.status.idle": "2020-09-18T13:09:46.910207Z",
     "shell.execute_reply": "2020-09-18T13:09:46.911284Z"
    },
    "papermill": {
     "duration": 0.083843,
     "end_time": "2020-09-18T13:09:46.911471",
     "exception": false,
     "start_time": "2020-09-18T13:09:46.827628",
     "status": "completed"
    },
    "tags": []
   },
   "outputs": [
    {
     "data": {
      "text/plain": [
       "Age\n",
       "1     50\n",
       "2     33\n",
       "3    218\n",
       "4    322\n",
       "5    118\n",
       "6    128\n",
       "7     22\n",
       "Name: Age, dtype: int64"
      ]
     },
     "execution_count": 9,
     "metadata": {},
     "output_type": "execute_result"
    }
   ],
   "source": [
    "#Bands: (1) 0-7, (2) 8-15, (3) 16-25, (4) 26-32, (5) 33-40, (6) 41-60, (7) 61-100\n",
    "bins = [0, 7, 15, 25, 32, 40, 60, 100]\n",
    "names = ['1', '2', '3', '4', '5', '6', '7']\n",
    "df_train['Age'] = pd.cut(df_train['Age'], bins, labels = names)\n",
    "df_test['Age'] = pd.cut(df_test['Age'], bins, labels = names)\n",
    "\n",
    "df_train['Age'].groupby(df_train.Age).count()"
   ]
  },
  {
   "cell_type": "markdown",
   "metadata": {
    "papermill": {
     "duration": 0.05315,
     "end_time": "2020-09-18T13:09:47.022923",
     "exception": false,
     "start_time": "2020-09-18T13:09:46.969773",
     "status": "completed"
    },
    "tags": []
   },
   "source": [
    "### Display death by age group"
   ]
  },
  {
   "cell_type": "code",
   "execution_count": 10,
   "metadata": {
    "execution": {
     "iopub.execute_input": "2020-09-18T13:09:47.124348Z",
     "iopub.status.busy": "2020-09-18T13:09:47.123310Z",
     "iopub.status.idle": "2020-09-18T13:09:47.404472Z",
     "shell.execute_reply": "2020-09-18T13:09:47.405594Z"
    },
    "papermill": {
     "duration": 0.338892,
     "end_time": "2020-09-18T13:09:47.405791",
     "exception": false,
     "start_time": "2020-09-18T13:09:47.066899",
     "status": "completed"
    },
    "tags": []
   },
   "outputs": [
    {
     "data": {
      "image/png": "[encoded data removed]",
      "text/plain": [
       "<Figure size 432x288 with 1 Axes>"
      ]
     },
     "metadata": {
      "needs_background": "light"
     },
     "output_type": "display_data"
    }
   ],
   "source": [
    "fig, ax = plt.subplots()\n",
    "sns.countplot(x='Age',hue='Survived',data=df_train)\n",
    "new_xtick = ['0-7', '8-15', '16-25','26-32','33-40','41-60','61-100']\n",
    "ax.set_xticklabels(new_xtick)\n",
    "new_legend = ['Deceased', 'Survivors']\n",
    "plt.legend(new_legend)\n",
    "plt.show()"
   ]
  },
  {
   "cell_type": "markdown",
   "metadata": {
    "papermill": {
     "duration": 0.051643,
     "end_time": "2020-09-18T13:09:47.507249",
     "exception": false,
     "start_time": "2020-09-18T13:09:47.455606",
     "status": "completed"
    },
    "tags": []
   },
   "source": [
    "### Drop no necessary columns for the data analysis"
   ]
  },
  {
   "cell_type": "code",
   "execution_count": 11,
   "metadata": {
    "execution": {
     "iopub.execute_input": "2020-09-18T13:09:47.630755Z",
     "iopub.status.busy": "2020-09-18T13:09:47.623150Z",
     "iopub.status.idle": "2020-09-18T13:09:47.633838Z",
     "shell.execute_reply": "2020-09-18T13:09:47.633215Z"
    },
    "papermill": {
     "duration": 0.070745,
     "end_time": "2020-09-18T13:09:47.633993",
     "exception": false,
     "start_time": "2020-09-18T13:09:47.563248",
     "status": "completed"
    },
    "tags": []
   },
   "outputs": [],
   "source": [
    "df_train.drop(['Cabin'], axis = 1, inplace=True)\n",
    "df_test.drop(['Cabin'], axis = 1, inplace=True)\n",
    "df_train = df_train.drop(['PassengerId','Name','Ticket'], axis=1)\n",
    "df_test = df_test.drop(['Name','Ticket'], axis=1)"
   ]
  },
  {
   "cell_type": "markdown",
   "metadata": {
    "papermill": {
     "duration": 0.034079,
     "end_time": "2020-09-18T13:09:47.702563",
     "exception": false,
     "start_time": "2020-09-18T13:09:47.668484",
     "status": "completed"
    },
    "tags": []
   },
   "source": [
    "### Drop the rows with a null value"
   ]
  },
  {
   "cell_type": "code",
   "execution_count": 12,
   "metadata": {
    "execution": {
     "iopub.execute_input": "2020-09-18T13:09:47.780990Z",
     "iopub.status.busy": "2020-09-18T13:09:47.779990Z",
     "iopub.status.idle": "2020-09-18T13:09:47.786478Z",
     "shell.execute_reply": "2020-09-18T13:09:47.785836Z"
    },
    "papermill": {
     "duration": 0.049674,
     "end_time": "2020-09-18T13:09:47.786599",
     "exception": false,
     "start_time": "2020-09-18T13:09:47.736925",
     "status": "completed"
    },
    "tags": []
   },
   "outputs": [],
   "source": [
    "df_train.dropna(axis=0, how='any', inplace=True)\n",
    "df_test.dropna(axis=0, how='any', inplace=True)"
   ]
  },
  {
   "cell_type": "markdown",
   "metadata": {
    "papermill": {
     "duration": 0.03586,
     "end_time": "2020-09-18T13:09:47.866702",
     "exception": false,
     "start_time": "2020-09-18T13:09:47.830842",
     "status": "completed"
    },
    "tags": []
   },
   "source": [
    "### Columns dissociation\n",
    "For improve the precission of the algorithm the best is dissasociate specific columns. Columns to dissociate:\n",
    "- Age (Age Group)\n",
    "- Embarked\n",
    "- Pclass\n",
    "- SibSp\n",
    "- Parch"
   ]
  },
  {
   "cell_type": "code",
   "execution_count": 13,
   "metadata": {
    "execution": {
     "iopub.execute_input": "2020-09-18T13:09:47.949286Z",
     "iopub.status.busy": "2020-09-18T13:09:47.947324Z",
     "iopub.status.idle": "2020-09-18T13:09:47.950169Z",
     "shell.execute_reply": "2020-09-18T13:09:47.950670Z"
    },
    "papermill": {
     "duration": 0.049123,
     "end_time": "2020-09-18T13:09:47.950792",
     "exception": false,
     "start_time": "2020-09-18T13:09:47.901669",
     "status": "completed"
    },
    "tags": []
   },
   "outputs": [],
   "source": [
    "def column_dissociation(DataFrame, ColumnName):\n",
    "    df = DataFrame\n",
    "    uniques = df[ColumnName].drop_duplicates()#unique results of the column\n",
    "    uniques = uniques.sort_values( ascending=True) #Sort the values\n",
    "    new_column_name = \"\"\n",
    "    for i, value in enumerate(uniques):\n",
    "        new_column_name = ColumnName + '_' + str(value)\n",
    "        df[new_column_name] = np.zeros(df.shape[0])\n",
    "        df[new_column_name] = df[new_column_name].astype('int64')\n",
    "        df.loc[df[ColumnName] == value, new_column_name] = 1\n",
    "    df.drop([ColumnName], axis = 1, inplace=True)\n",
    "    return df"
   ]
  },
  {
   "cell_type": "code",
   "execution_count": 14,
   "metadata": {
    "execution": {
     "iopub.execute_input": "2020-09-18T13:09:48.032485Z",
     "iopub.status.busy": "2020-09-18T13:09:48.030924Z",
     "iopub.status.idle": "2020-09-18T13:09:48.033260Z",
     "shell.execute_reply": "2020-09-18T13:09:48.034183Z"
    },
    "papermill": {
     "duration": 0.048721,
     "end_time": "2020-09-18T13:09:48.034339",
     "exception": false,
     "start_time": "2020-09-18T13:09:47.985618",
     "status": "completed"
    },
    "tags": []
   },
   "outputs": [],
   "source": [
    "def column_comparator(DataFrame1, DataFrame2):\n",
    "    bool_test = False\n",
    "    result = []\n",
    "    for i, column1 in enumerate(DataFrame1):\n",
    "        bool_test = False\n",
    "        for j, column2 in enumerate(DataFrame2):\n",
    "            if column1 == column2:\n",
    "                bool_test = True \n",
    "                \n",
    "        if not bool_test:\n",
    "            result.append(column1)\n",
    "    return result"
   ]
  },
  {
   "cell_type": "code",
   "execution_count": 15,
   "metadata": {
    "execution": {
     "iopub.execute_input": "2020-09-18T13:09:48.115969Z",
     "iopub.status.busy": "2020-09-18T13:09:48.113801Z",
     "iopub.status.idle": "2020-09-18T13:09:48.116809Z",
     "shell.execute_reply": "2020-09-18T13:09:48.117380Z"
    },
    "papermill": {
     "duration": 0.047449,
     "end_time": "2020-09-18T13:09:48.117511",
     "exception": false,
     "start_time": "2020-09-18T13:09:48.070062",
     "status": "completed"
    },
    "tags": []
   },
   "outputs": [],
   "source": [
    "def create_zeros_column(DataFrame, columns):\n",
    "    df = DataFrame\n",
    "    if len(columns) == 0:\n",
    "        print('No columns added')\n",
    "    elif isinstance(columns, str):\n",
    "        df[columns] = np.zeros(df.shape[0])\n",
    "        df[columns] = df[columns].astype('int64')\n",
    "    else:\n",
    "        for i, col in enumerate(columns):\n",
    "            df[col] = np.zeros(df.shape[0])\n",
    "            df[col] = df[col].astype('int64')\n",
    "    return df"
   ]
  },
  {
   "cell_type": "code",
   "execution_count": 16,
   "metadata": {
    "execution": {
     "iopub.execute_input": "2020-09-18T13:09:48.202868Z",
     "iopub.status.busy": "2020-09-18T13:09:48.201809Z",
     "iopub.status.idle": "2020-09-18T13:09:48.314782Z",
     "shell.execute_reply": "2020-09-18T13:09:48.315578Z"
    },
    "papermill": {
     "duration": 0.161731,
     "end_time": "2020-09-18T13:09:48.315773",
     "exception": false,
     "start_time": "2020-09-18T13:09:48.154042",
     "status": "completed"
    },
    "tags": []
   },
   "outputs": [
    {
     "name": "stdout",
     "output_type": "stream",
     "text": [
      "['PassengerId', 'Embarked_0', 'Embarked_1', 'Embarked_2', 'Parch_9']\n",
      "['Survived', 'Embarked_0.0', 'Embarked_1.0', 'Embarked_2.0']\n"
     ]
    }
   ],
   "source": [
    "#- Age (Age Group)\n",
    "df_train = column_dissociation(df_train, 'Age')\n",
    "df_test = column_dissociation(df_test, 'Age')\n",
    "#- Embarket\n",
    "df_train = column_dissociation(df_train, 'Embarked')\n",
    "df_test = column_dissociation(df_test, 'Embarked')\n",
    "#- Pclass\n",
    "df_train = column_dissociation(df_train, 'Pclass')\n",
    "df_test = column_dissociation(df_test, 'Pclass')\n",
    "#- SibSp\n",
    "df_train = column_dissociation(df_train, 'SibSp')\n",
    "df_test = column_dissociation(df_test, 'SibSp')\n",
    "#- Parch\n",
    "df_train = column_dissociation(df_train, 'Parch')\n",
    "df_test = column_dissociation(df_test, 'Parch')\n",
    "\n",
    "#Are there any column in a dataFrame that are not in the other\n",
    "cc1 = column_comparator(df_test,df_train)\n",
    "print(cc1)\n",
    "cc2 = column_comparator(df_train, df_test)\n",
    "print(cc2)\n",
    "df_train = create_zeros_column(df_train, 'Parch_9')"
   ]
  },
  {
   "cell_type": "markdown",
   "metadata": {
    "papermill": {
     "duration": 0.037155,
     "end_time": "2020-09-18T13:09:48.390684",
     "exception": false,
     "start_time": "2020-09-18T13:09:48.353529",
     "status": "completed"
    },
    "tags": []
   },
   "source": [
    "### Correlation Heatmap"
   ]
  },
  {
   "cell_type": "code",
   "execution_count": 17,
   "metadata": {
    "execution": {
     "iopub.execute_input": "2020-09-18T13:09:48.480515Z",
     "iopub.status.busy": "2020-09-18T13:09:48.479201Z",
     "iopub.status.idle": "2020-09-18T13:09:52.098557Z",
     "shell.execute_reply": "2020-09-18T13:09:52.097947Z"
    },
    "papermill": {
     "duration": 3.671398,
     "end_time": "2020-09-18T13:09:52.098710",
     "exception": false,
     "start_time": "2020-09-18T13:09:48.427312",
     "status": "completed"
    },
    "tags": []
   },
   "outputs": [
    {
     "data": {
      "image/png": "[encoded data removed]",
      "text/plain": [
       "<Figure size 1008x864 with 2 Axes>"
      ]
     },
     "metadata": {
      "needs_background": "light"
     },
     "output_type": "display_data"
    }
   ],
   "source": [
    "# Correlation Heatmap\n",
    "def correlation_heatmap(df):\n",
    "    _ , ax = plt.subplots(figsize =(14, 12))\n",
    "    colormap = sns.diverging_palette(220, 10, as_cmap = True)\n",
    "    \n",
    "    _ = sns.heatmap(\n",
    "        df.corr(), \n",
    "        cmap = colormap,\n",
    "        square=True, \n",
    "        cbar_kws={'shrink':.9 }, \n",
    "        ax=ax,\n",
    "        annot=True, \n",
    "        linewidths=0.1,vmax=1.0, linecolor='white',\n",
    "        annot_kws={'fontsize':6 }\n",
    "    )\n",
    "    \n",
    "    plt.title('Heatmap Correlation', y=1.05, size=15)\n",
    "\n",
    "correlation_heatmap(df_train)"
   ]
  },
  {
   "cell_type": "markdown",
   "metadata": {
    "papermill": {
     "duration": 0.041251,
     "end_time": "2020-09-18T13:09:52.180315",
     "exception": false,
     "start_time": "2020-09-18T13:09:52.139064",
     "status": "completed"
    },
    "tags": []
   },
   "source": [
    "## Machine Learning Data Analysis\n",
    "\n",
    "For this problem we have to select the classification algorithms. The algorithms I have to compare will be:\n",
    "1. [Logistic Regression](https://en.wikipedia.org/wiki/Logistic_regression)\n",
    "2. [K-nearest neighbors classifier](https://en.wikipedia.org/wiki/K-nearest_neighbors_algorithm) \n",
    "3. [Support vector machine](https://en.wikipedia.org/wiki/Support_vector_machine)\n",
    "4. [Perceptron](https://en.wikipedia.org/wiki/Multilayer_perceptron)\n",
    "5. [Random Forest](https://en.wikipedia.org/wiki/Random_forest)\n",
    "6. [XGBoost Classifier](https://towardsdatascience.com/https-medium-com-vishalmorde-xgboost-algorithm-long-she-may-rein-edd9f99be63d)\n",
    "7. [Multi-Layer Perceptron](https://en.wikipedia.org/wiki/Multilayer_perceptron)\n",
    "\n",
    "### Split the column of surveillance of the rest of DataFrame"
   ]
  },
  {
   "cell_type": "code",
   "execution_count": 18,
   "metadata": {
    "execution": {
     "iopub.execute_input": "2020-09-18T13:09:52.268445Z",
     "iopub.status.busy": "2020-09-18T13:09:52.267630Z",
     "iopub.status.idle": "2020-09-18T13:09:52.271589Z",
     "shell.execute_reply": "2020-09-18T13:09:52.270949Z"
    },
    "papermill": {
     "duration": 0.051484,
     "end_time": "2020-09-18T13:09:52.271705",
     "exception": false,
     "start_time": "2020-09-18T13:09:52.220221",
     "status": "completed"
    },
    "tags": []
   },
   "outputs": [],
   "source": [
    "X = np.array(df_train.drop(['Survived'], 1))\n",
    "y = np.array(df_train['Survived'])"
   ]
  },
  {
   "cell_type": "markdown",
   "metadata": {
    "papermill": {
     "duration": 0.040328,
     "end_time": "2020-09-18T13:09:52.352387",
     "exception": false,
     "start_time": "2020-09-18T13:09:52.312059",
     "status": "completed"
    },
    "tags": []
   },
   "source": [
    "### Split a part of the train dataset for test the algorithms\n",
    "Adjust the test size to a 20%."
   ]
  },
  {
   "cell_type": "code",
   "execution_count": 19,
   "metadata": {
    "execution": {
     "iopub.execute_input": "2020-09-18T13:09:52.439269Z",
     "iopub.status.busy": "2020-09-18T13:09:52.438382Z",
     "iopub.status.idle": "2020-09-18T13:09:52.441443Z",
     "shell.execute_reply": "2020-09-18T13:09:52.442144Z"
    },
    "papermill": {
     "duration": 0.049378,
     "end_time": "2020-09-18T13:09:52.442285",
     "exception": false,
     "start_time": "2020-09-18T13:09:52.392907",
     "status": "completed"
    },
    "tags": []
   },
   "outputs": [],
   "source": [
    "X_train, X_test, y_train, y_test = train_test_split(X, y, test_size=0.2)"
   ]
  },
  {
   "cell_type": "markdown",
   "metadata": {
    "papermill": {
     "duration": 0.041356,
     "end_time": "2020-09-18T13:09:52.522991",
     "exception": false,
     "start_time": "2020-09-18T13:09:52.481635",
     "status": "completed"
    },
    "tags": []
   },
   "source": [
    "### Test the algoritms"
   ]
  },
  {
   "cell_type": "code",
   "execution_count": 20,
   "metadata": {
    "execution": {
     "iopub.execute_input": "2020-09-18T13:09:52.628650Z",
     "iopub.status.busy": "2020-09-18T13:09:52.618215Z",
     "iopub.status.idle": "2020-09-18T13:10:06.006173Z",
     "shell.execute_reply": "2020-09-18T13:10:06.007037Z"
    },
    "papermill": {
     "duration": 13.443938,
     "end_time": "2020-09-18T13:10:06.007235",
     "exception": false,
     "start_time": "2020-09-18T13:09:52.563297",
     "status": "completed"
    },
    "tags": []
   },
   "outputs": [
    {
     "name": "stdout",
     "output_type": "stream",
     "text": [
      "Logistic Regression\n",
      "Score: 0.8284106891701828\n",
      "Accuracy: 0.7640449438202247\n",
      "Confusion Matrix:\n",
      "[[86 23]\n",
      " [19 50]]\n",
      "              precision    recall  f1-score   support\n",
      "\n",
      "           0       0.82      0.79      0.80       109\n",
      "           1       0.68      0.72      0.70        69\n",
      "\n",
      "    accuracy                           0.76       178\n",
      "   macro avg       0.75      0.76      0.75       178\n",
      "weighted avg       0.77      0.76      0.77       178\n",
      "\n",
      "------------------------------------\n",
      "K-Nearest Neighbors Classifier\n",
      "Score: 0.8523206751054853\n",
      "Accuracy: 0.6853932584269663\n",
      "Confusion Matrix:\n",
      "[[76 33]\n",
      " [23 46]]\n",
      "              precision    recall  f1-score   support\n",
      "\n",
      "           0       0.77      0.70      0.73       109\n",
      "           1       0.58      0.67      0.62        69\n",
      "\n",
      "    accuracy                           0.69       178\n",
      "   macro avg       0.67      0.68      0.68       178\n",
      "weighted avg       0.70      0.69      0.69       178\n",
      "\n",
      "------------------------------------\n",
      "Support Vector Machine Classifier\n",
      "Score: 0.6652601969057665\n",
      "Accuracy: 0.6573033707865169\n",
      "Confusion Matrix:\n",
      "[[101   8]\n",
      " [ 53  16]]\n",
      "              precision    recall  f1-score   support\n",
      "\n",
      "           0       0.66      0.93      0.77       109\n",
      "           1       0.67      0.23      0.34        69\n",
      "\n",
      "    accuracy                           0.66       178\n",
      "   macro avg       0.66      0.58      0.56       178\n",
      "weighted avg       0.66      0.66      0.60       178\n",
      "\n",
      "------------------------------------\n",
      "Perceptron Classifier\n",
      "Score: 0.6188466947960619\n",
      "Accuracy: 0.6123595505617978\n",
      "Confusion Matrix:\n",
      "[[109   0]\n",
      " [ 69   0]]\n",
      "              precision    recall  f1-score   support\n",
      "\n",
      "           0       0.61      1.00      0.76       109\n",
      "           1       0.00      0.00      0.00        69\n",
      "\n",
      "    accuracy                           0.61       178\n",
      "   macro avg       0.31      0.50      0.38       178\n",
      "weighted avg       0.37      0.61      0.47       178\n",
      "\n",
      "------------------------------------\n"
     ]
    },
    {
     "name": "stderr",
     "output_type": "stream",
     "text": [
      "/opt/conda/lib/python3.7/site-packages/sklearn/metrics/_classification.py:1221: UndefinedMetricWarning: Precision and F-score are ill-defined and being set to 0.0 in labels with no predicted samples. Use `zero_division` parameter to control this behavior.\n",
      "  _warn_prf(average, modifier, msg_start, len(result))\n"
     ]
    },
    {
     "name": "stdout",
     "output_type": "stream",
     "text": [
      "XGBoost Classifier\n",
      "Score: 0.7805907172995781\n",
      "Accuracy: 0.6629213483146067\n",
      "Confusion Matrix:\n",
      "[[58 51]\n",
      " [ 9 60]]\n",
      "              precision    recall  f1-score   support\n",
      "\n",
      "           0       0.87      0.53      0.66       109\n",
      "           1       0.54      0.87      0.67        69\n",
      "\n",
      "    accuracy                           0.66       178\n",
      "   macro avg       0.70      0.70      0.66       178\n",
      "weighted avg       0.74      0.66      0.66       178\n",
      "\n",
      "------------------------------------\n",
      "Random Forest Classifier\n",
      "Score: 0.9535864978902954\n",
      "Accuracy: 0.7247191011235955\n",
      "Confusion Matrix:\n",
      "[[77 32]\n",
      " [17 52]]\n",
      "              precision    recall  f1-score   support\n",
      "\n",
      "           0       0.82      0.71      0.76       109\n",
      "           1       0.62      0.75      0.68        69\n",
      "\n",
      "    accuracy                           0.72       178\n",
      "   macro avg       0.72      0.73      0.72       178\n",
      "weighted avg       0.74      0.72      0.73       178\n",
      "\n",
      "------------------------------------\n",
      "Multi-Layer Perceptron Classifier\n",
      "Score: 0.8832630098452883\n",
      "Accuracy: 0.7640449438202247\n",
      "Confusion Matrix:\n",
      "[[90 19]\n",
      " [23 46]]\n",
      "              precision    recall  f1-score   support\n",
      "\n",
      "           0       0.80      0.83      0.81       109\n",
      "           1       0.71      0.67      0.69        69\n",
      "\n",
      "    accuracy                           0.76       178\n",
      "   macro avg       0.75      0.75      0.75       178\n",
      "weighted avg       0.76      0.76      0.76       178\n",
      "\n",
      "------------------------------------\n",
      "AdaBoost Classifier\n",
      "Score: 0.819971870604782\n",
      "Accuracy: 0.797752808988764\n",
      "Confusion Matrix:\n",
      "[[86 23]\n",
      " [13 56]]\n",
      "              precision    recall  f1-score   support\n",
      "\n",
      "           0       0.87      0.79      0.83       109\n",
      "           1       0.71      0.81      0.76        69\n",
      "\n",
      "    accuracy                           0.80       178\n",
      "   macro avg       0.79      0.80      0.79       178\n",
      "weighted avg       0.81      0.80      0.80       178\n",
      "\n",
      "------------------------------------\n",
      "Linear Discriminant Analysis\n",
      "Score: 0.8185654008438819\n",
      "Accuracy: 0.7808988764044944\n",
      "Confusion Matrix:\n",
      "[[89 20]\n",
      " [19 50]]\n",
      "              precision    recall  f1-score   support\n",
      "\n",
      "           0       0.82      0.82      0.82       109\n",
      "           1       0.71      0.72      0.72        69\n",
      "\n",
      "    accuracy                           0.78       178\n",
      "   macro avg       0.77      0.77      0.77       178\n",
      "weighted avg       0.78      0.78      0.78       178\n",
      "\n",
      "------------------------------------\n",
      "Gradient Boosting Classifier\n",
      "Score: 0.9043600562587905\n",
      "Accuracy: 0.7752808988764045\n",
      "Confusion Matrix:\n",
      "[[88 21]\n",
      " [19 50]]\n",
      "              precision    recall  f1-score   support\n",
      "\n",
      "           0       0.82      0.81      0.81       109\n",
      "           1       0.70      0.72      0.71        69\n",
      "\n",
      "    accuracy                           0.78       178\n",
      "   macro avg       0.76      0.77      0.76       178\n",
      "weighted avg       0.78      0.78      0.78       178\n",
      "\n",
      "------------------------------------\n",
      "Decision Tree Classifier\n",
      "Score: 0.9535864978902954\n",
      "Accuracy: 0.7303370786516854\n",
      "Confusion Matrix:\n",
      "[[83 26]\n",
      " [22 47]]\n",
      "              precision    recall  f1-score   support\n",
      "\n",
      "           0       0.79      0.76      0.78       109\n",
      "           1       0.64      0.68      0.66        69\n",
      "\n",
      "    accuracy                           0.73       178\n",
      "   macro avg       0.72      0.72      0.72       178\n",
      "weighted avg       0.73      0.73      0.73       178\n",
      "\n",
      "------------------------------------\n",
      "Decision Tree Classifier\n",
      "Score: 0.9535864978902954\n",
      "Accuracy: 0.7359550561797753\n",
      "Confusion Matrix:\n",
      "[[84 25]\n",
      " [22 47]]\n",
      "              precision    recall  f1-score   support\n",
      "\n",
      "           0       0.79      0.77      0.78       109\n",
      "           1       0.65      0.68      0.67        69\n",
      "\n",
      "    accuracy                           0.74       178\n",
      "   macro avg       0.72      0.73      0.72       178\n",
      "weighted avg       0.74      0.74      0.74       178\n",
      "\n",
      "------------------------------------\n"
     ]
    }
   ],
   "source": [
    "##Logistic Regression\n",
    "logreg = LogisticRegression(max_iter = 100000)\n",
    "logreg.fit(X_train, y_train)\n",
    "Y_pred = logreg.predict(X_test)\n",
    "\n",
    "print('Logistic Regression')\n",
    "print('Score: ' + str(logreg.score(X_train, y_train)))\n",
    "print('Accuracy: '+ str(accuracy_score(y_test, Y_pred)))\n",
    "print('Confusion Matrix:')\n",
    "print(confusion_matrix(y_test, Y_pred))\n",
    "print(classification_report(y_test, Y_pred))\n",
    "print('------------------------------------')\n",
    "\n",
    "##K neighbors\n",
    "knn = KNeighborsClassifier(n_neighbors = 3)\n",
    "knn.fit(X_train, y_train)\n",
    "Y_pred = knn.predict(X_test)\n",
    "\n",
    "print('K-Nearest Neighbors Classifier')\n",
    "print('Score: ' + str(knn.score(X_train, y_train)))\n",
    "print('Accuracy: '+ str(accuracy_score(y_test, Y_pred)))\n",
    "print('Confusion Matrix:')\n",
    "print(confusion_matrix(y_test, Y_pred))\n",
    "print(classification_report(y_test, Y_pred))\n",
    "print('------------------------------------')\n",
    "\n",
    "##Support Vector Machines\n",
    "svc = SVC()\n",
    "svc.fit(X_train, y_train)\n",
    "Y_pred = svc.predict(X_test)\n",
    "\n",
    "print('Support Vector Machine Classifier')\n",
    "print('Score: ' + str(svc.score(X_train, y_train)))\n",
    "print('Accuracy: '+ str(accuracy_score(y_test, Y_pred)))\n",
    "print('Confusion Matrix:')\n",
    "print(confusion_matrix(y_test, Y_pred))\n",
    "print(classification_report(y_test, Y_pred))\n",
    "print('------------------------------------')\n",
    "\n",
    "##Perceptron\n",
    "perceptron = Perceptron()\n",
    "perceptron.fit(X_train, y_train)\n",
    "Y_pred = perceptron.predict(X_test)\n",
    "\n",
    "print('Perceptron Classifier')\n",
    "print('Score: ' + str(perceptron.score(X_train, y_train)))\n",
    "print('Accuracy: '+ str(accuracy_score(y_test, Y_pred)))\n",
    "print('Confusion Matrix:')\n",
    "print(confusion_matrix(y_test, Y_pred))\n",
    "print(classification_report(y_test, Y_pred))\n",
    "print('------------------------------------')\n",
    "\n",
    "##XGBoost Classifier\n",
    "xgboost = XGBClassifier(learning_rate=1.3, n_estimators=2000, max_depth=40, min_child_weight=40, \n",
    "                      gamma=0.4,nthread=10, subsample=0.8, colsample_bytree=.8, \n",
    "                      objective= 'binary:logistic',scale_pos_weight=10,seed=29)\n",
    "xgboost.fit(X_train, y_train)\n",
    "Y_pred = xgboost.predict(X_test)\n",
    "\n",
    "print('XGBoost Classifier')\n",
    "print('Score: ' + str(xgboost.score(X_train, y_train)))\n",
    "print('Accuracy: '+ str(accuracy_score(y_test, Y_pred)))\n",
    "print('Confusion Matrix:')\n",
    "print(confusion_matrix(y_test, Y_pred))\n",
    "print(classification_report(y_test, Y_pred))\n",
    "print('------------------------------------')\n",
    "\n",
    "##Random Forest\n",
    "random_forest = RandomForestClassifier(n_estimators=1000, random_state = 0)\n",
    "random_forest.fit(X_train, y_train)\n",
    "Y_pred = random_forest.predict(X_test)\n",
    "random_forest.score(X_train, y_train)\n",
    "\n",
    "print('Random Forest Classifier')\n",
    "print('Score: ' + str(random_forest.score(X_train, y_train)))\n",
    "print('Accuracy: '+ str(accuracy_score(y_test, Y_pred)))\n",
    "print('Confusion Matrix:')\n",
    "print(confusion_matrix(y_test, Y_pred))\n",
    "print(classification_report(y_test, Y_pred))\n",
    "print('------------------------------------')\n",
    "\n",
    "##Multi-Layer Perceptron Classifier\n",
    "mlp_classifier = MLPClassifier(hidden_layer_sizes = 1000, alpha = 0.00001, learning_rate = 'adaptive', learning_rate_init = 0.001, random_state = 0, max_iter = 100000 )\n",
    "mlp_classifier.fit(X_train, y_train)\n",
    "Y_pred = mlp_classifier.predict(X_test)\n",
    "mlp_classifier.score(X_train, y_train)\n",
    "\n",
    "print('Multi-Layer Perceptron Classifier')\n",
    "print('Score: ' + str(mlp_classifier.score(X_train, y_train)))\n",
    "print('Accuracy: '+ str(accuracy_score(y_test, Y_pred)))\n",
    "print('Confusion Matrix:')\n",
    "print(confusion_matrix(y_test, Y_pred))\n",
    "print(classification_report(y_test, Y_pred))\n",
    "print('------------------------------------')\n",
    "\n",
    "\n",
    "##AdaBoostClassifier\n",
    "adaboost = AdaBoostClassifier()\n",
    "adaboost.fit(X_train, y_train)\n",
    "Y_pred = adaboost.predict(X_test)\n",
    "adaboost.score(X_train, y_train)\n",
    "\n",
    "print('AdaBoost Classifier')\n",
    "print('Score: ' + str(adaboost.score(X_train, y_train)))\n",
    "print('Accuracy: '+ str(accuracy_score(y_test, Y_pred)))\n",
    "print('Confusion Matrix:')\n",
    "print(confusion_matrix(y_test, Y_pred))\n",
    "print(classification_report(y_test, Y_pred))\n",
    "print('------------------------------------')\n",
    "\n",
    "##Linear Discriminant Analysis\n",
    "lineardiscriminant = LinearDiscriminantAnalysis()\n",
    "lineardiscriminant.fit(X_train, y_train)\n",
    "Y_pred = lineardiscriminant.predict(X_test)\n",
    "lineardiscriminant.score(X_train, y_train)\n",
    "\n",
    "print('Linear Discriminant Analysis')\n",
    "print('Score: ' + str(lineardiscriminant.score(X_train, y_train)))\n",
    "print('Accuracy: '+ str(accuracy_score(y_test, Y_pred)))\n",
    "print('Confusion Matrix:')\n",
    "print(confusion_matrix(y_test, Y_pred))\n",
    "print(classification_report(y_test, Y_pred))\n",
    "print('------------------------------------')\n",
    "\n",
    "##Gradient Boosting Classifier\n",
    "gradient_boosting = GradientBoostingClassifier()\n",
    "gradient_boosting.fit(X_train, y_train)\n",
    "Y_pred = gradient_boosting.predict(X_test)\n",
    "gradient_boosting.score(X_train, y_train)\n",
    "\n",
    "print('Gradient Boosting Classifier')\n",
    "print('Score: ' + str(gradient_boosting.score(X_train, y_train)))\n",
    "print('Accuracy: '+ str(accuracy_score(y_test, Y_pred)))\n",
    "print('Confusion Matrix:')\n",
    "print(confusion_matrix(y_test, Y_pred))\n",
    "print(classification_report(y_test, Y_pred))\n",
    "print('------------------------------------')\n",
    "\n",
    "\n",
    "##Decision Tree Classifier\n",
    "decision_tree = DecisionTreeClassifier()\n",
    "decision_tree.fit(X_train, y_train)\n",
    "Y_pred = decision_tree.predict(X_test)\n",
    "decision_tree.score(X_train, y_train)\n",
    "\n",
    "print('Decision Tree Classifier')\n",
    "print('Score: ' + str(decision_tree.score(X_train, y_train)))\n",
    "print('Accuracy: '+ str(accuracy_score(y_test, Y_pred)))\n",
    "print('Confusion Matrix:')\n",
    "print(confusion_matrix(y_test, Y_pred))\n",
    "print(classification_report(y_test, Y_pred))\n",
    "print('------------------------------------')\n",
    "\n",
    "\n",
    "##Decision Tree Classifier\n",
    "extra_tree = DecisionTreeClassifier()\n",
    "extra_tree.fit(X_train, y_train)\n",
    "Y_pred = extra_tree.predict(X_test)\n",
    "extra_tree.score(X_train, y_train)\n",
    "\n",
    "print('Decision Tree Classifier')\n",
    "print('Score: ' + str(extra_tree.score(X_train, y_train)))\n",
    "print('Accuracy: '+ str(accuracy_score(y_test, Y_pred)))\n",
    "print('Confusion Matrix:')\n",
    "print(confusion_matrix(y_test, Y_pred))\n",
    "print(classification_report(y_test, Y_pred))\n",
    "print('------------------------------------')\n",
    "\n"
   ]
  },
  {
   "cell_type": "markdown",
   "metadata": {
    "papermill": {
     "duration": 0.041402,
     "end_time": "2020-09-18T13:10:06.091164",
     "exception": false,
     "start_time": "2020-09-18T13:10:06.049762",
     "status": "completed"
    },
    "tags": []
   },
   "source": [
    "In this case, the most accurate algorithm is the [random forest](https://en.wikipedia.org/wiki/Random_forest) and the multi-layer preceptron ([neural network](https://en.wikipedia.org/wiki/Artificial_neural_network)).\n",
    "\n",
    "### Cross Validation\n",
    "Select the best model using [cross validation](https://en.wikipedia.org/wiki/Cross-validation_(statistics)).\n",
    "From this point on, notebook code is reused [Titanic Top 4% with ensemble modeling](https://www.kaggle.com/yassineghouzam/titanic-top-4-with-ensemble-modeling). \n",
    "I highly recommend to view this notebook."
   ]
  },
  {
   "cell_type": "code",
   "execution_count": 21,
   "metadata": {
    "execution": {
     "iopub.execute_input": "2020-09-18T13:10:06.194242Z",
     "iopub.status.busy": "2020-09-18T13:10:06.193429Z",
     "iopub.status.idle": "2020-09-18T13:10:27.689407Z",
     "shell.execute_reply": "2020-09-18T13:10:27.688823Z"
    },
    "papermill": {
     "duration": 21.554811,
     "end_time": "2020-09-18T13:10:27.689530",
     "exception": false,
     "start_time": "2020-09-18T13:10:06.134719",
     "status": "completed"
    },
    "tags": []
   },
   "outputs": [
    {
     "data": {
      "image/png": "[encoded data removed]",
      "text/plain": [
       "<Figure size 432x288 with 1 Axes>"
      ]
     },
     "metadata": {
      "needs_background": "light"
     },
     "output_type": "display_data"
    }
   ],
   "source": [
    "# Cross validate model with Kfold stratified cross val\n",
    "kfold = StratifiedKFold(n_splits=10)\n",
    "\n",
    "\n",
    "# Modeling step Test differents algorithms \n",
    "random_state = 2\n",
    "classifiers = []\n",
    "\n",
    "classifiers.append(SVC(random_state=random_state))\n",
    "classifiers.append(Perceptron(random_state=random_state))\n",
    "classifiers.append(RandomForestClassifier(random_state=random_state))\n",
    "classifiers.append(KNeighborsClassifier())\n",
    "classifiers.append(LogisticRegression(random_state = random_state))\n",
    "classifiers.append(XGBClassifier())\n",
    "classifiers.append(MLPClassifier(random_state=random_state))\n",
    "\n",
    "classifiers.append(AdaBoostClassifier(DecisionTreeClassifier(random_state=random_state),random_state=random_state,learning_rate=0.1))\n",
    "classifiers.append(LinearDiscriminantAnalysis())\n",
    "classifiers.append(GradientBoostingClassifier(random_state=random_state))\n",
    "classifiers.append(DecisionTreeClassifier(random_state=random_state))\n",
    "classifiers.append(ExtraTreesClassifier(random_state=random_state))\n",
    "\n",
    "cv_results = []\n",
    "for classifier in classifiers :\n",
    "    cv_results.append(cross_val_score(classifier, X_train, y = y_train, scoring = \"accuracy\", cv = kfold, n_jobs=4))\n",
    "\n",
    "cv_means = []\n",
    "cv_std = []\n",
    "for cv_result in cv_results:\n",
    "    cv_means.append(cv_result.mean())\n",
    "    cv_std.append(cv_result.std())\n",
    "\n",
    "cv_res = pd.DataFrame({\"CrossValMeans\":cv_means,\"CrossValerrors\": cv_std,\"Algorithm\":[\"SVC\",\"Perceptron\",\n",
    "\"RandomForest\",\"KNeighborsClassifier\",\"LogisticRegression\",\"XGBClassifier\",\"MultipleLayerPerceptron\", \"AdaBoostClassifier\", \"LinearDiscriminantAnalysis\", \"GradientBoosting\", \"DecisionTree\", \"ExtraTreesClassifier\"]})\n",
    "\n",
    "g = sns.barplot(\"CrossValMeans\",\"Algorithm\",data = cv_res, palette=\"Set3\",orient = \"h\",**{'xerr':cv_std})\n",
    "g.set_xlabel(\"Mean Accuracy\")\n",
    "g.set_xlim(xmin=0.6)\n",
    "g = g.set_title(\"Cross validation scores\")\n"
   ]
  },
  {
   "cell_type": "markdown",
   "metadata": {
    "papermill": {
     "duration": 0.043692,
     "end_time": "2020-09-18T13:10:27.778289",
     "exception": false,
     "start_time": "2020-09-18T13:10:27.734597",
     "status": "completed"
    },
    "tags": []
   },
   "source": [
    "### Tunning the hyperparameters\n",
    "I choose the most responsive algorithm which is the **Gradient Descent** and we tune the hyperparameters."
   ]
  },
  {
   "cell_type": "code",
   "execution_count": 22,
   "metadata": {
    "execution": {
     "iopub.execute_input": "2020-09-18T13:10:27.874236Z",
     "iopub.status.busy": "2020-09-18T13:10:27.873374Z",
     "iopub.status.idle": "2020-09-18T13:10:27.875820Z",
     "shell.execute_reply": "2020-09-18T13:10:27.876376Z"
    },
    "papermill": {
     "duration": 0.053695,
     "end_time": "2020-09-18T13:10:27.876505",
     "exception": false,
     "start_time": "2020-09-18T13:10:27.822810",
     "status": "completed"
    },
    "tags": []
   },
   "outputs": [],
   "source": [
    "# Gradient boosting tunning\n",
    "\n",
    "GBC = GradientBoostingClassifier()\n",
    "gb_param_grid = {'loss' : [\"deviance\"],\n",
    "              'n_estimators' : [100,200,300, 400, 500, 750, 1000],\n",
    "              'learning_rate': [0.1, 0.05, 0.01, 0.005, 0.001],\n",
    "              'max_depth': [4, 8, 16, 32, 64, 128],\n",
    "              'min_samples_leaf': [100,150, 200, 250],\n",
    "              'max_features': [0.3, 0.1, 0.05, 0.01] \n",
    "              }\n",
    "\n",
    "gsGBC = GridSearchCV(GBC,param_grid = gb_param_grid, cv=kfold, scoring=\"accuracy\", n_jobs= 4, verbose = 1)\n"
   ]
  },
  {
   "cell_type": "code",
   "execution_count": 23,
   "metadata": {
    "execution": {
     "iopub.execute_input": "2020-09-18T13:10:27.968356Z",
     "iopub.status.busy": "2020-09-18T13:10:27.967436Z",
     "iopub.status.idle": "2020-09-18T14:57:26.464965Z",
     "shell.execute_reply": "2020-09-18T14:57:26.465481Z"
    },
    "papermill": {
     "duration": 6418.546413,
     "end_time": "2020-09-18T14:57:26.465663",
     "exception": false,
     "start_time": "2020-09-18T13:10:27.919250",
     "status": "completed"
    },
    "tags": []
   },
   "outputs": [
    {
     "name": "stdout",
     "output_type": "stream",
     "text": [
      "Fitting 10 folds for each of 3360 candidates, totalling 33600 fits\n"
     ]
    },
    {
     "name": "stderr",
     "output_type": "stream",
     "text": [
      "[Parallel(n_jobs=4)]: Using backend LokyBackend with 4 concurrent workers.\n",
      "[Parallel(n_jobs=4)]: Done  62 tasks      | elapsed:   14.8s\n",
      "[Parallel(n_jobs=4)]: Done 212 tasks      | elapsed:   50.2s\n",
      "[Parallel(n_jobs=4)]: Done 462 tasks      | elapsed:  1.6min\n",
      "[Parallel(n_jobs=4)]: Done 812 tasks      | elapsed:  2.7min\n",
      "[Parallel(n_jobs=4)]: Done 1262 tasks      | elapsed:  4.2min\n",
      "[Parallel(n_jobs=4)]: Done 1812 tasks      | elapsed:  6.0min\n",
      "[Parallel(n_jobs=4)]: Done 2462 tasks      | elapsed:  8.1min\n",
      "[Parallel(n_jobs=4)]: Done 3212 tasks      | elapsed: 10.4min\n",
      "[Parallel(n_jobs=4)]: Done 4062 tasks      | elapsed: 13.2min\n",
      "[Parallel(n_jobs=4)]: Done 5012 tasks      | elapsed: 16.3min\n",
      "[Parallel(n_jobs=4)]: Done 6062 tasks      | elapsed: 19.6min\n",
      "[Parallel(n_jobs=4)]: Done 7212 tasks      | elapsed: 23.3min\n",
      "[Parallel(n_jobs=4)]: Done 8462 tasks      | elapsed: 27.2min\n",
      "[Parallel(n_jobs=4)]: Done 9812 tasks      | elapsed: 31.4min\n",
      "[Parallel(n_jobs=4)]: Done 11262 tasks      | elapsed: 36.0min\n",
      "[Parallel(n_jobs=4)]: Done 12812 tasks      | elapsed: 41.0min\n",
      "[Parallel(n_jobs=4)]: Done 14462 tasks      | elapsed: 45.9min\n",
      "[Parallel(n_jobs=4)]: Done 16212 tasks      | elapsed: 51.7min\n",
      "[Parallel(n_jobs=4)]: Done 18062 tasks      | elapsed: 57.5min\n",
      "[Parallel(n_jobs=4)]: Done 20012 tasks      | elapsed: 63.5min\n",
      "[Parallel(n_jobs=4)]: Done 22062 tasks      | elapsed: 70.1min\n",
      "[Parallel(n_jobs=4)]: Done 24212 tasks      | elapsed: 77.0min\n",
      "[Parallel(n_jobs=4)]: Done 26462 tasks      | elapsed: 84.2min\n",
      "[Parallel(n_jobs=4)]: Done 28812 tasks      | elapsed: 91.6min\n",
      "[Parallel(n_jobs=4)]: Done 31262 tasks      | elapsed: 99.4min\n",
      "[Parallel(n_jobs=4)]: Done 33600 out of 33600 | elapsed: 107.0min finished\n"
     ]
    },
    {
     "data": {
      "text/plain": [
       "0.8255672926447574"
      ]
     },
     "execution_count": 23,
     "metadata": {},
     "output_type": "execute_result"
    }
   ],
   "source": [
    "gsGBC.fit(X_train,y_train)\n",
    "\n",
    "GBC_best = gsGBC.best_estimator_\n",
    "\n",
    "# Best score\n",
    "gsGBC.best_score_"
   ]
  },
  {
   "cell_type": "markdown",
   "metadata": {
    "papermill": {
     "duration": 0.055522,
     "end_time": "2020-09-18T14:57:26.578287",
     "exception": false,
     "start_time": "2020-09-18T14:57:26.522765",
     "status": "completed"
    },
    "tags": []
   },
   "source": [
    "### Learning curves"
   ]
  },
  {
   "cell_type": "code",
   "execution_count": 24,
   "metadata": {
    "execution": {
     "iopub.execute_input": "2020-09-18T14:57:26.708539Z",
     "iopub.status.busy": "2020-09-18T14:57:26.707169Z",
     "iopub.status.idle": "2020-09-18T14:57:26.711106Z",
     "shell.execute_reply": "2020-09-18T14:57:26.710508Z"
    },
    "papermill": {
     "duration": 0.075968,
     "end_time": "2020-09-18T14:57:26.711214",
     "exception": false,
     "start_time": "2020-09-18T14:57:26.635246",
     "status": "completed"
    },
    "tags": []
   },
   "outputs": [],
   "source": [
    "def plot_learning_curve(estimator, title, X, y, ylim=None, cv=None,\n",
    "                        n_jobs=-1, train_sizes=np.linspace(.1, 1.0, 5)):\n",
    "    \"\"\"Generate a simple plot of the test and training learning curve\"\"\"\n",
    "    plt.figure()\n",
    "    plt.title(title)\n",
    "    if ylim is not None:\n",
    "        plt.ylim(*ylim)\n",
    "    plt.xlabel(\"Training examples\")\n",
    "    plt.ylabel(\"Score\")\n",
    "    train_sizes, train_scores, test_scores = learning_curve(\n",
    "        estimator, X, y, cv=cv, n_jobs=n_jobs, train_sizes=train_sizes)\n",
    "    train_scores_mean = np.mean(train_scores, axis=1)\n",
    "    train_scores_std = np.std(train_scores, axis=1)\n",
    "    test_scores_mean = np.mean(test_scores, axis=1)\n",
    "    test_scores_std = np.std(test_scores, axis=1)\n",
    "    plt.grid()\n",
    "\n",
    "    plt.fill_between(train_sizes, train_scores_mean - train_scores_std,\n",
    "                     train_scores_mean + train_scores_std, alpha=0.1,\n",
    "                     color=\"r\")\n",
    "    plt.fill_between(train_sizes, test_scores_mean - test_scores_std,\n",
    "                     test_scores_mean + test_scores_std, alpha=0.1, color=\"g\")\n",
    "    plt.plot(train_sizes, train_scores_mean, 'o-', color=\"r\",\n",
    "             label=\"Training score\")\n",
    "    plt.plot(train_sizes, test_scores_mean, 'o-', color=\"g\",\n",
    "             label=\"Cross-validation score\")\n",
    "\n",
    "    plt.legend(loc=\"best\")\n",
    "    return plt"
   ]
  },
  {
   "cell_type": "code",
   "execution_count": 25,
   "metadata": {
    "execution": {
     "iopub.execute_input": "2020-09-18T14:57:26.841693Z",
     "iopub.status.busy": "2020-09-18T14:57:26.840445Z",
     "iopub.status.idle": "2020-09-18T14:57:31.583619Z",
     "shell.execute_reply": "2020-09-18T14:57:31.582768Z"
    },
    "papermill": {
     "duration": 4.812917,
     "end_time": "2020-09-18T14:57:31.583766",
     "exception": false,
     "start_time": "2020-09-18T14:57:26.770849",
     "status": "completed"
    },
    "tags": []
   },
   "outputs": [
    {
     "data": {
      "image/png": "[encoded data removed]",
      "text/plain": [
       "<Figure size 432x288 with 1 Axes>"
      ]
     },
     "metadata": {
      "needs_background": "light"
     },
     "output_type": "display_data"
    }
   ],
   "source": [
    "g = plot_learning_curve(gsGBC.best_estimator_,\"GradientBoosting learning curves\",X_train,y_train,cv=kfold)"
   ]
  },
  {
   "cell_type": "markdown",
   "metadata": {
    "papermill": {
     "duration": 0.055963,
     "end_time": "2020-09-18T14:57:31.701068",
     "exception": false,
     "start_time": "2020-09-18T14:57:31.645105",
     "status": "completed"
    },
    "tags": []
   },
   "source": [
    "### Prediction"
   ]
  },
  {
   "cell_type": "code",
   "execution_count": 26,
   "metadata": {
    "execution": {
     "iopub.execute_input": "2020-09-18T14:57:31.827507Z",
     "iopub.status.busy": "2020-09-18T14:57:31.826531Z",
     "iopub.status.idle": "2020-09-18T14:57:31.829425Z",
     "shell.execute_reply": "2020-09-18T14:57:31.828909Z"
    },
    "papermill": {
     "duration": 0.072453,
     "end_time": "2020-09-18T14:57:31.829527",
     "exception": false,
     "start_time": "2020-09-18T14:57:31.757074",
     "status": "completed"
    },
    "tags": []
   },
   "outputs": [],
   "source": [
    "## Choose the best algorithms (ensembled mode)\n",
    "model = gsGBC\n",
    "\n",
    "ids = df_test['PassengerId']\n",
    "\n",
    "##Result\n",
    "prediction = model.predict(df_test.drop('PassengerId', axis=1))\n",
    "out_pred = pd.DataFrame({ 'PassengerId' : ids, 'Survived': prediction })\n"
   ]
  },
  {
   "cell_type": "markdown",
   "metadata": {
    "papermill": {
     "duration": 0.053977,
     "end_time": "2020-09-18T14:57:31.937947",
     "exception": false,
     "start_time": "2020-09-18T14:57:31.883970",
     "status": "completed"
    },
    "tags": []
   },
   "source": [
    "### Choose the best algorithm (the most accurate)\n",
    "\n",
    "Export the result to `.csv`. The result of these notebook is `0.77033`."
   ]
  },
  {
   "cell_type": "code",
   "execution_count": 27,
   "metadata": {
    "execution": {
     "iopub.execute_input": "2020-09-18T14:57:32.057072Z",
     "iopub.status.busy": "2020-09-18T14:57:32.056378Z",
     "iopub.status.idle": "2020-09-18T14:57:32.327561Z",
     "shell.execute_reply": "2020-09-18T14:57:32.326926Z"
    },
    "papermill": {
     "duration": 0.333468,
     "end_time": "2020-09-18T14:57:32.327682",
     "exception": false,
     "start_time": "2020-09-18T14:57:31.994214",
     "status": "completed"
    },
    "tags": []
   },
   "outputs": [],
   "source": [
    "df_sup = pd.DataFrame({\"PassengerId\":[1044], \"Survived\":[0]}) \n",
    "out_pred = out_pred.append(df_sup)\n",
    "out_pred = out_pred.sort_values(by='PassengerId', ascending=True)\n",
    "\n",
    "out_pred.to_csv('Submission.csv', index = False)"
   ]
  }
 ],
 "metadata": {
  "kernelspec": {
   "display_name": "Python 3",
   "language": "python",
   "name": "python3"
  },
  "language_info": {
   "codemirror_mode": {
    "name": "ipython",
    "version": 3
   },
   "file_extension": ".py",
   "mimetype": "text/x-python",
   "name": "python",
   "nbconvert_exporter": "python",
   "pygments_lexer": "ipython3",
   "version": "3.7.6"
  },
  "papermill": {
   "duration": 6474.468526,
   "end_time": "2020-09-18T14:57:32.493411",
   "environment_variables": {},
   "exception": null,
   "input_path": "__notebook__.ipynb",
   "output_path": "__notebook__.ipynb",
   "parameters": {},
   "start_time": "2020-09-18T13:09:38.024885",
   "version": "2.1.0"
  }
 },
 "nbformat": 4,
 "nbformat_minor": 4
}
