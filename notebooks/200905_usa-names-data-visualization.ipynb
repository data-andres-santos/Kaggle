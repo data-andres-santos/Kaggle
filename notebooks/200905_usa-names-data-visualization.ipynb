{
 "cells": [
  {
   "cell_type": "markdown",
   "execution_count": null,
   "metadata": {
    "papermill": {
     "duration": 0.009281,
     "end_time": "2020-09-06T18:40:05.949772",
     "exception": false,
     "start_time": "2020-09-06T18:40:05.940491",
     "status": "completed"
    },
    "tags": []
   },
   "source": [
    "# USA Names - Data Visualization\n",
    "Visualization of the data present in the dataset *usa-names*.\n",
    "\n",
    "The issues questions are answered:\n",
    "- Most popular names by year\n",
    "- Most popular names since 1910\n",
    "- Less popular names\n",
    "- Unisex names\n",
    "- Uknowns & uknowns by year\n",
    "\n",
    "\n",
    "### Import Libraries"
   ]
  },
  {
   "cell_type": "code",
   "execution_count": 1,
   "metadata": {
    "_cell_guid": "79c7e3d0-c299-4dcb-8224-4455121ee9b0",
    "_uuid": "d629ff2d2480ee46fbb7e2d37f6b5fab8052498a",
    "execution": {
     "iopub.execute_input": "2020-09-06T18:40:05.970417Z",
     "iopub.status.busy": "2020-09-06T18:40:05.969544Z",
     "iopub.status.idle": "2020-09-06T18:40:07.462228Z",
     "shell.execute_reply": "2020-09-06T18:40:07.462938Z"
    },
    "papermill": {
     "duration": 1.506635,
     "end_time": "2020-09-06T18:40:07.463144",
     "exception": false,
     "start_time": "2020-09-06T18:40:05.956509",
     "status": "completed"
    },
    "tags": []
   },
   "outputs": [
    {
     "name": "stdout",
     "output_type": "stream",
     "text": [
      "Using Kaggle's public dataset BigQuery integration.\n"
     ]
    }
   ],
   "source": [
    "#Data Analysis\n",
    "import numpy as np \n",
    "import pandas as pd \n",
    "\n",
    "#Data Visualization\n",
    "import matplotlib.pyplot as plt\n",
    "import seaborn as sns\n",
    "\n",
    "from google.cloud import bigquery \n",
    "#Declare the Big Query Client\n",
    "bq = bigquery.Client()"
   ]
  },
  {
   "cell_type": "markdown",
   "execution_count": null,
   "metadata": {
    "papermill": {
     "duration": 0.006482,
     "end_time": "2020-09-06T18:40:07.476566",
     "exception": false,
     "start_time": "2020-09-06T18:40:07.470084",
     "status": "completed"
    },
    "tags": []
   },
   "source": [
    "## Data exploration\n",
    "\n",
    "Name of tables, size of data, number of rows"
   ]
  },
  {
   "cell_type": "code",
   "execution_count": 2,
   "metadata": {
    "execution": {
     "iopub.execute_input": "2020-09-06T18:40:07.502431Z",
     "iopub.status.busy": "2020-09-06T18:40:07.501378Z",
     "iopub.status.idle": "2020-09-06T18:40:08.790922Z",
     "shell.execute_reply": "2020-09-06T18:40:08.791714Z"
    },
    "papermill": {
     "duration": 1.307057,
     "end_time": "2020-09-06T18:40:08.791930",
     "exception": false,
     "start_time": "2020-09-06T18:40:07.484873",
     "status": "completed"
    },
    "tags": []
   },
   "outputs": [
    {
     "name": "stdout",
     "output_type": "stream",
     "text": [
      "The dataset size is 0.336 GB with 11675342 rows.\n",
      "Number of tables: 2\n",
      "Tables name: \n",
      "0       usa_1910_2013\n",
      "1    usa_1910_current\n",
      "Name: table_id, dtype: object\n"
     ]
    }
   ],
   "source": [
    "tables_info_query = \"\"\"\n",
    "SELECT\n",
    "    *\n",
    "FROM\n",
    "    `bigquery-public-data.usa_names.__TABLES__`\n",
    "\"\"\"\n",
    "\n",
    "table_info_result = bq.query(tables_info_query).to_dataframe()\n",
    "\n",
    "print('The dataset size is ' + str(round(table_info_result['size_bytes'].sum() /(2**30),3)) + ' GB with ' +  str(table_info_result['row_count'].sum()) + ' rows.')\n",
    "print('Number of tables: '+ str(table_info_result['table_id'].count()) + '\\nTables name: ')\n",
    "print(table_info_result['table_id'])"
   ]
  },
  {
   "cell_type": "code",
   "execution_count": 3,
   "metadata": {
    "execution": {
     "iopub.execute_input": "2020-09-06T18:40:08.818169Z",
     "iopub.status.busy": "2020-09-06T18:40:08.817406Z",
     "iopub.status.idle": "2020-09-06T18:40:09.996095Z",
     "shell.execute_reply": "2020-09-06T18:40:09.996748Z"
    },
    "papermill": {
     "duration": 1.19591,
     "end_time": "2020-09-06T18:40:09.996918",
     "exception": false,
     "start_time": "2020-09-06T18:40:08.801008",
     "status": "completed"
    },
    "tags": []
   },
   "outputs": [
    {
     "data": {
      "text/html": [
       "<div>\n",
       "<style scoped>\n",
       "    .dataframe tbody tr th:only-of-type {\n",
       "        vertical-align: middle;\n",
       "    }\n",
       "\n",
       "    .dataframe tbody tr th {\n",
       "        vertical-align: top;\n",
       "    }\n",
       "\n",
       "    .dataframe thead th {\n",
       "        text-align: right;\n",
       "    }\n",
       "</style>\n",
       "<table border=\"1\" class=\"dataframe\">\n",
       "  <thead>\n",
       "    <tr style=\"text-align: right;\">\n",
       "      <th></th>\n",
       "      <th>state</th>\n",
       "      <th>gender</th>\n",
       "      <th>year</th>\n",
       "      <th>name</th>\n",
       "      <th>number</th>\n",
       "    </tr>\n",
       "  </thead>\n",
       "  <tbody>\n",
       "    <tr>\n",
       "      <th>0</th>\n",
       "      <td>MI</td>\n",
       "      <td>F</td>\n",
       "      <td>1910</td>\n",
       "      <td>Helen</td>\n",
       "      <td>368</td>\n",
       "    </tr>\n",
       "    <tr>\n",
       "      <th>1</th>\n",
       "      <td>MI</td>\n",
       "      <td>F</td>\n",
       "      <td>1910</td>\n",
       "      <td>Mary</td>\n",
       "      <td>349</td>\n",
       "    </tr>\n",
       "    <tr>\n",
       "      <th>2</th>\n",
       "      <td>MI</td>\n",
       "      <td>F</td>\n",
       "      <td>1910</td>\n",
       "      <td>Margaret</td>\n",
       "      <td>272</td>\n",
       "    </tr>\n",
       "    <tr>\n",
       "      <th>3</th>\n",
       "      <td>MI</td>\n",
       "      <td>F</td>\n",
       "      <td>1910</td>\n",
       "      <td>Dorothy</td>\n",
       "      <td>265</td>\n",
       "    </tr>\n",
       "    <tr>\n",
       "      <th>4</th>\n",
       "      <td>MI</td>\n",
       "      <td>F</td>\n",
       "      <td>1910</td>\n",
       "      <td>Ruth</td>\n",
       "      <td>212</td>\n",
       "    </tr>\n",
       "  </tbody>\n",
       "</table>\n",
       "</div>"
      ],
      "text/plain": [
       "  state gender  year      name  number\n",
       "0    MI      F  1910     Helen     368\n",
       "1    MI      F  1910      Mary     349\n",
       "2    MI      F  1910  Margaret     272\n",
       "3    MI      F  1910   Dorothy     265\n",
       "4    MI      F  1910      Ruth     212"
      ]
     },
     "execution_count": 3,
     "metadata": {},
     "output_type": "execute_result"
    }
   ],
   "source": [
    "tables_info_query = \"\"\"\n",
    "SELECT \n",
    "    *\n",
    "FROM\n",
    "    `bigquery-public-data.usa_names.usa_1910_current`\n",
    "LIMIT 100\n",
    "\"\"\"\n",
    "\n",
    "table_info_result = bq.query(tables_info_query).to_dataframe()\n",
    "\n",
    "table_info_result.head()"
   ]
  },
  {
   "cell_type": "markdown",
   "execution_count": null,
   "metadata": {
    "papermill": {
     "duration": 0.006608,
     "end_time": "2020-09-06T18:40:10.010833",
     "exception": false,
     "start_time": "2020-09-06T18:40:10.004225",
     "status": "completed"
    },
    "tags": []
   },
   "source": [
    "### What are the most popular name of USA each year?"
   ]
  },
  {
   "cell_type": "code",
   "execution_count": 4,
   "metadata": {
    "execution": {
     "iopub.execute_input": "2020-09-06T18:40:10.035905Z",
     "iopub.status.busy": "2020-09-06T18:40:10.035094Z",
     "iopub.status.idle": "2020-09-06T18:40:11.160561Z",
     "shell.execute_reply": "2020-09-06T18:40:11.159935Z"
    },
    "papermill": {
     "duration": 1.142963,
     "end_time": "2020-09-06T18:40:11.160711",
     "exception": false,
     "start_time": "2020-09-06T18:40:10.017748",
     "status": "completed"
    },
    "tags": []
   },
   "outputs": [
    {
     "data": {
      "text/html": [
       "<div>\n",
       "<style scoped>\n",
       "    .dataframe tbody tr th:only-of-type {\n",
       "        vertical-align: middle;\n",
       "    }\n",
       "\n",
       "    .dataframe tbody tr th {\n",
       "        vertical-align: top;\n",
       "    }\n",
       "\n",
       "    .dataframe thead th {\n",
       "        text-align: right;\n",
       "    }\n",
       "</style>\n",
       "<table border=\"1\" class=\"dataframe\">\n",
       "  <thead>\n",
       "    <tr style=\"text-align: right;\">\n",
       "      <th></th>\n",
       "      <th>year</th>\n",
       "      <th>name</th>\n",
       "      <th>gender</th>\n",
       "      <th>appearances</th>\n",
       "    </tr>\n",
       "  </thead>\n",
       "  <tbody>\n",
       "    <tr>\n",
       "      <th>0</th>\n",
       "      <td>2019</td>\n",
       "      <td>Olivia</td>\n",
       "      <td>F</td>\n",
       "      <td>18451</td>\n",
       "    </tr>\n",
       "    <tr>\n",
       "      <th>1</th>\n",
       "      <td>2019</td>\n",
       "      <td>Liam</td>\n",
       "      <td>M</td>\n",
       "      <td>20502</td>\n",
       "    </tr>\n",
       "    <tr>\n",
       "      <th>2</th>\n",
       "      <td>2018</td>\n",
       "      <td>Emma</td>\n",
       "      <td>F</td>\n",
       "      <td>18757</td>\n",
       "    </tr>\n",
       "    <tr>\n",
       "      <th>3</th>\n",
       "      <td>2018</td>\n",
       "      <td>Liam</td>\n",
       "      <td>M</td>\n",
       "      <td>19915</td>\n",
       "    </tr>\n",
       "    <tr>\n",
       "      <th>4</th>\n",
       "      <td>2017</td>\n",
       "      <td>Emma</td>\n",
       "      <td>F</td>\n",
       "      <td>19830</td>\n",
       "    </tr>\n",
       "    <tr>\n",
       "      <th>5</th>\n",
       "      <td>2017</td>\n",
       "      <td>Liam</td>\n",
       "      <td>M</td>\n",
       "      <td>18821</td>\n",
       "    </tr>\n",
       "    <tr>\n",
       "      <th>6</th>\n",
       "      <td>2016</td>\n",
       "      <td>Emma</td>\n",
       "      <td>F</td>\n",
       "      <td>19517</td>\n",
       "    </tr>\n",
       "    <tr>\n",
       "      <th>7</th>\n",
       "      <td>2016</td>\n",
       "      <td>Noah</td>\n",
       "      <td>M</td>\n",
       "      <td>19144</td>\n",
       "    </tr>\n",
       "    <tr>\n",
       "      <th>8</th>\n",
       "      <td>2015</td>\n",
       "      <td>Emma</td>\n",
       "      <td>F</td>\n",
       "      <td>20463</td>\n",
       "    </tr>\n",
       "    <tr>\n",
       "      <th>9</th>\n",
       "      <td>2015</td>\n",
       "      <td>Noah</td>\n",
       "      <td>M</td>\n",
       "      <td>19646</td>\n",
       "    </tr>\n",
       "  </tbody>\n",
       "</table>\n",
       "</div>"
      ],
      "text/plain": [
       "   year    name gender  appearances\n",
       "0  2019  Olivia      F        18451\n",
       "1  2019    Liam      M        20502\n",
       "2  2018    Emma      F        18757\n",
       "3  2018    Liam      M        19915\n",
       "4  2017    Emma      F        19830\n",
       "5  2017    Liam      M        18821\n",
       "6  2016    Emma      F        19517\n",
       "7  2016    Noah      M        19144\n",
       "8  2015    Emma      F        20463\n",
       "9  2015    Noah      M        19646"
      ]
     },
     "execution_count": 4,
     "metadata": {},
     "output_type": "execute_result"
    }
   ],
   "source": [
    "name_by_year_query = \"\"\"\n",
    "SELECT \n",
    "    year,\n",
    "    name,\n",
    "    gender,\n",
    "    SUM(number) appearances\n",
    "FROM\n",
    "    `bigquery-public-data.usa_names.usa_1910_current`\n",
    "GROUP BY gender, year, name\n",
    "\"\"\"\n",
    "\n",
    "ranking_name_by_year_query = \"\"\"\n",
    "SELECT\n",
    "    year,\n",
    "    name,\n",
    "    gender,\n",
    "    appearances,\n",
    "    RANK() OVER (PARTITION BY year, gender ORDER  BY appearances DESC) position\n",
    "\n",
    "FROM (\"\"\"+ name_by_year_query +\"\"\")\n",
    "\"\"\"\n",
    "\n",
    "mp_name_by_year_query = \"\"\"\n",
    "SELECT\n",
    "    year,\n",
    "    name,\n",
    "    gender,\n",
    "    appearances\n",
    "FROM (\"\"\"+ranking_name_by_year_query+\"\"\")\n",
    "WHERE position = 1\n",
    "ORDER BY year DESC, gender\n",
    "\"\"\"\n",
    "\n",
    "mp_name_by_year_result = bq.query(mp_name_by_year_query).to_dataframe()\n",
    "\n",
    "#Most popular names of the last 5 years\n",
    "mp_name_by_year_result.head(10)"
   ]
  },
  {
   "cell_type": "markdown",
   "execution_count": null,
   "metadata": {
    "papermill": {
     "duration": 0.00761,
     "end_time": "2020-09-06T18:40:11.176468",
     "exception": false,
     "start_time": "2020-09-06T18:40:11.168858",
     "status": "completed"
    },
    "tags": []
   },
   "source": [
    "### What are the most popular name of USA since 1910?"
   ]
  },
  {
   "cell_type": "code",
   "execution_count": 5,
   "metadata": {
    "execution": {
     "iopub.execute_input": "2020-09-06T18:40:11.200580Z",
     "iopub.status.busy": "2020-09-06T18:40:11.199484Z",
     "iopub.status.idle": "2020-09-06T18:40:12.316850Z",
     "shell.execute_reply": "2020-09-06T18:40:12.317474Z"
    },
    "papermill": {
     "duration": 1.133756,
     "end_time": "2020-09-06T18:40:12.317633",
     "exception": false,
     "start_time": "2020-09-06T18:40:11.183877",
     "status": "completed"
    },
    "tags": []
   },
   "outputs": [
    {
     "data": {
      "text/html": [
       "<div>\n",
       "<style scoped>\n",
       "    .dataframe tbody tr th:only-of-type {\n",
       "        vertical-align: middle;\n",
       "    }\n",
       "\n",
       "    .dataframe tbody tr th {\n",
       "        vertical-align: top;\n",
       "    }\n",
       "\n",
       "    .dataframe thead th {\n",
       "        text-align: right;\n",
       "    }\n",
       "</style>\n",
       "<table border=\"1\" class=\"dataframe\">\n",
       "  <thead>\n",
       "    <tr style=\"text-align: right;\">\n",
       "      <th></th>\n",
       "      <th>name</th>\n",
       "      <th>gender</th>\n",
       "      <th>appearances</th>\n",
       "      <th>position</th>\n",
       "    </tr>\n",
       "  </thead>\n",
       "  <tbody>\n",
       "    <tr>\n",
       "      <th>0</th>\n",
       "      <td>Mary</td>\n",
       "      <td>F</td>\n",
       "      <td>3743561</td>\n",
       "      <td>1</td>\n",
       "    </tr>\n",
       "    <tr>\n",
       "      <th>1</th>\n",
       "      <td>Patricia</td>\n",
       "      <td>F</td>\n",
       "      <td>1569296</td>\n",
       "      <td>2</td>\n",
       "    </tr>\n",
       "    <tr>\n",
       "      <th>2</th>\n",
       "      <td>Elizabeth</td>\n",
       "      <td>F</td>\n",
       "      <td>1545720</td>\n",
       "      <td>3</td>\n",
       "    </tr>\n",
       "    <tr>\n",
       "      <th>3</th>\n",
       "      <td>James</td>\n",
       "      <td>M</td>\n",
       "      <td>5010765</td>\n",
       "      <td>1</td>\n",
       "    </tr>\n",
       "    <tr>\n",
       "      <th>4</th>\n",
       "      <td>John</td>\n",
       "      <td>M</td>\n",
       "      <td>4878703</td>\n",
       "      <td>2</td>\n",
       "    </tr>\n",
       "    <tr>\n",
       "      <th>5</th>\n",
       "      <td>Robert</td>\n",
       "      <td>M</td>\n",
       "      <td>4739061</td>\n",
       "      <td>3</td>\n",
       "    </tr>\n",
       "  </tbody>\n",
       "</table>\n",
       "</div>"
      ],
      "text/plain": [
       "        name gender  appearances  position\n",
       "0       Mary      F      3743561         1\n",
       "1   Patricia      F      1569296         2\n",
       "2  Elizabeth      F      1545720         3\n",
       "3      James      M      5010765         1\n",
       "4       John      M      4878703         2\n",
       "5     Robert      M      4739061         3"
      ]
     },
     "execution_count": 5,
     "metadata": {},
     "output_type": "execute_result"
    }
   ],
   "source": [
    "most_popular_name_query = \"\"\"\n",
    "SELECT \n",
    "    name,\n",
    "    gender,\n",
    "    SUM(number) appearances\n",
    "FROM\n",
    "    `bigquery-public-data.usa_names.usa_1910_current`\n",
    "GROUP BY gender, name\n",
    "\"\"\"\n",
    "\n",
    "ranking_mp_name_query = \"\"\"\n",
    "SELECT\n",
    "    name,\n",
    "    gender,\n",
    "    appearances,\n",
    "    RANK() OVER (PARTITION BY gender ORDER  BY appearances DESC) position\n",
    "FROM (\"\"\"+ most_popular_name_query +\"\"\")\n",
    "\"\"\"\n",
    "\n",
    "the_mp_name_query = \"\"\"\n",
    "SELECT\n",
    "    name,\n",
    "    gender,\n",
    "    appearances,\n",
    "    position\n",
    "FROM (\"\"\"+ranking_mp_name_query+\"\"\")\n",
    "WHERE position <= 3\n",
    "ORDER BY gender, position\n",
    "\"\"\"\n",
    "\n",
    "the_mp_name_result = bq.query(the_mp_name_query).to_dataframe()\n",
    "\n",
    "#Most popular names\n",
    "the_mp_name_result.head(6)"
   ]
  },
  {
   "cell_type": "markdown",
   "execution_count": null,
   "metadata": {
    "papermill": {
     "duration": 0.007384,
     "end_time": "2020-09-06T18:40:12.332761",
     "exception": false,
     "start_time": "2020-09-06T18:40:12.325377",
     "status": "completed"
    },
    "tags": []
   },
   "source": [
    "### List of Unique Names"
   ]
  },
  {
   "cell_type": "code",
   "execution_count": 6,
   "metadata": {
    "execution": {
     "iopub.execute_input": "2020-09-06T18:40:12.362324Z",
     "iopub.status.busy": "2020-09-06T18:40:12.361364Z",
     "iopub.status.idle": "2020-09-06T18:40:14.924671Z",
     "shell.execute_reply": "2020-09-06T18:40:14.925339Z"
    },
    "papermill": {
     "duration": 2.58532,
     "end_time": "2020-09-06T18:40:14.925508",
     "exception": false,
     "start_time": "2020-09-06T18:40:12.340188",
     "status": "completed"
    },
    "tags": []
   },
   "outputs": [
    {
     "name": "stdout",
     "output_type": "stream",
     "text": [
      "Unique Name List:\n",
      "Gender: Female. \n",
      "Number of appearances: 5\n",
      "List:\n",
      " Aalaya Aalliyah Aamani Aamori Aanshi Aaren Aariya Aasha Aashritha Aasia Abagayle Abaigeal Abbiegail Abbye Abigayl Abiola Abreanna Abrina Abyan Ace Acie Adahlia Adaia Adalay Adalhi Adalida Adanelly Adanya Addalie Addi Addis Adelai Adelayda Adelena Adelfina Adelise Aderinsola Adessa Adesuwa Adeya Adgie Adianez Adileni Adonai Adonna Adrieanna Adriella Adwoa Aeliana Aelin Aemilia Aerilyn Aerolynn Afomia Afrah Ageliki Agena Ahlaam Ahlana Ahliyah Ahniah Ahniyah Ahriana Aibhlinn Aidaly Aidelyn Aileene Ailis Aiman Aimme Aino Airiel Aizza Ajane Ajena Ajwa Akansha Akaylah Akaysha Akeisha Akhila Akie Akiyah Akyli Al Alaena Alaija Alamar Alannis Alante Alaylah Alayzia Alberdia Albesa Albie Albirda Aldah Aldean Aleanna Aleiya Aleja Alejah Aleksia Alexina Alexssa Alexsys Aleyshka Alfonsina Alfreida Algia Aliany Alianys Alicha Alie Aliea Aliena Alik Alique Aliyaah Alkeria Allaina Allexa Allianna Allora Allycia Almer Almerinda Alsace Altheda Althia Alvita Alyanah Alyda Alyss Alyssamae Amadi Amadita Amala Amali Amalyn Amana Amanat Amando Amarachukwu Amarra Amberlea Amberlie Amberlin Ambriel Ambry Ameila Ameliya Amenda Amere Amesha Amilliana Amir Ammi Amonie Amouri Ample Amrutha Amunet Amyriah Anabelia Anabiya Anacecilia Anaceli Anah Anaika Anaise Anaissa Anaja Anaka Analeigha Analeya Analya Anamta Anaria Anavi Anayiah Anaysia Anda Andreita Anelis Anelly Anet Angelean Angelette Angeliah Angelicamaria Angelicamarie Angelinah Angelinne Angeliqu Angeni Angi Anhelica Anikah Anisty Aniyyah Anjalee Anjanae Anjannette Anjelique Anjenette Anjoli Ankitha Annaelle Annajulia Annalissa Annaliz Annaluiza Annalysa Annalyssa Annarose Annastacia Annelie Anniah Anniebell Annlee Annya Anorah Antara Antigone Antwonette Anureet Anushree Anzlee Aoi Apolinar Appollonia Appolonia Aprile Aprill Aquasia Arabela Aracelly Araina Araly Araminta Aramis Arbadella Arcadia Archer Archita Arda Ardele Ardita Ardythe Areebah Areen Areni Ariahna Arianie Ariannie Ariarose Aribelle Arieal Arihana Arikka Arilene Aristea Ariyanah Arjeta Arlana Arlayne Arleigh Arlenis Arleny Arlynne Arlyss Armelinda Armonii Arna Arnetia Arnetra Arnie Arnisha Aroosa Arrielle Artha Arthuree Arti Arvis Ary Aryahi Aryanne Aryona Asal Asalee Ascension Ashe Ashiyah Ashlon Ashlyne Ashmita Ashvika Ashwika Ashya Asianae Asianna Aslean Aslyn Aslynn Aspasia Aspynn Assa Assetou Astha Astin Asuka Asuncion Atheena Athelene Atlantis Atleigh Atzi Auda Audine Audre Audreana Audrena Audryana Aulii Aulora Aurelie Aurion Austynn Autie Autry Avaleen Avanna Averlee Averyrose Avian Aviona Avon Avrielle Ayaana Ayano Ayasha Ayerim Ayianna Aylana Aylanie Aylet Ayleth Aylssa Ayodele Ayriana Ayza Aza Azalie Azalynn Azelea Azhar Azita Azka Azula Babe Bacilia Baelyn Bailea Bailei Baley Bambina Barbarajean Barbarella Bas Bashirah Basma Bathsheba Bawi Bayle Bayler Baylin Bayyinah Beanna Beauton Beddie Bedelia Bedie Belanna Bellanie Bellina Benancia Benigna Benito Bentlie Bernadean Bernardina Bernece Bernelle Berry Bertice Beryle Bethania Betheny Beyounce Biana Bibianna Bijal Bilan Billiejean Bilma Binh Blakleigh Blayklee Bleona Bleu Blodwyn Blossie Blyss Bobi Bonifacia Bonnielee Bonnye Bradi Braeden Braedyn Braileigh Bralyn Branae Brandyn Braydee Braylei Brazos Brealynn Breanah Breda Breely Breianna Breina Brelyn Brendalee Brendan Breslynn Brette Brezhane Briane Briani Briante Briarrose Bricola Bridie Briniyah Brinklee Brinnley Brinsley Brione Brisamar Bristal Brit Britainy Brithanny Britlyn Brittanyann Britten Brixtyn Briyah Brizia Brizza Brody Bronx Brooklee Brookley Brooxie Brya Bryanah Bryanda Bryannah Brylen Bryndee Brynnan Bryony Brytni Buffi Bular Bunia Bunnie Burnetta Cabrina Cadynce Caelin Caera Calamity Callen Calonia Caludia Camerina Camiah Camielle Cammi Camrin Canaan Caniyah Cante Caretha Cariann Carime Carinna Carisia Carita Carizma Carlesha Carlisle Carlissa Carloyn Carlton Carmya Carnation Caro Caroleann Carriann Carrianne Carrieanne Carrin Carrina Carron Cartier Caryle Casady Casarah Casee Cashlynn Casilda Casimera Cassand Cassara Cataleia Cathaleya Catiria Catrena Cattie Caycee Cayetana Caylyn Ceceilia Cecelie Cecilee Cecillia Cecy Cedrina Ceira Celida Celyna Centhia Cesaria Chaim Chalisa Chalise Chalon Chandrika Chanele Chaniqua Channie Channy Chantee Chantele Chantil Charae Charene Charisa Charlen Charmian Charmine Charnesha Charnette Charnice Charnissa Charrise Charrisse Charron Chasmine Chasya Chauntelle Chealsea Chelan Chelcy Chelesa Chemise Chenay Cheng Chenin Chenique Chequita Cheramie Cheray Cherell Cheril Cherith Cherl Cheronda Cheryal Chesnee Chessa Chestine Chetara Cheyla Cheynne Chiana Chianne Chikamso Chrisie Chrissa Christe Christna Christol Chryl Chrys Cidalia Cielita Ciella Cigi Cilicia Cinzia Cirilla Clairissa Claramae Clark Clatie Claudean Claudio Cleofas Clevie Clide Clister Clo Cloda Clorine Clotene Clowie Clyda Clytie Coby Cohen Cola Colinda Collyn Colon Columba Comfort Cona Condol Conferina Conny Connye Conola Copeland Corah Corazon Corneisha Cornelious Cornelius Correna Correne Corry Corvette Coua Courney Cove Crestina Crisanta Crissa Crissie Cristalle Cristella Cristyn Crystalee Crystalmarie Crystelle Cubia Cuma Cutina Cyana Cydnie Cylee Cyndia Cyndle Cynne Cyntha Cyntrell Cyriah Cythia Dabria Dacie Daffney Dafnee Daielle Daijanae Daily Dailynn Daizhane Dajana Dajanique Daksha Dalal Dalari Dalarie Dallanara Damiah Damian Damika Damilola Damisha Damoni Dan Danaja Danaysha Danera Daniesha Dannae Dannielynn Danuta Danute Danyela Danylah Daphane Daphanie Daphene Darbie Darcus Darenda Darionna Darius Darl Darnelle Darolyn Darriel Dashae Dashanae Dashanique Dasie Dasmine Datha Davanee Davi Davie Davinah Davion Davon Davonne Dawnn Daycee Dayelin Daylee Daylen Dayshia Daytona Deanndra Deari Dearia Deashia Debara Debbe Debbye Debralee Decklyn Deethya Deijah Deilany Deise Deissy Dejana Dejanay Dejane Delano Delaylah Delayne Delaynie Delcia Deleyza Delfa Delinah Delise Dellie Dema Demani Demia Demita Demiya Demri Deneane Denetria Denishia Dennie Denny Denotra Denyce Deonne Deronda Derrianna Derrisha Desere Deshante Deshanti Deshaun Deshawnda Deshay Deshon Deshone Deshundra Detria Deviny Devonda Dewey Deyna Deyra Dezaree Dezhane Dhamar Dhwani Diamante Dianely Diarra Diavion Dierdra Dimitria Disa Disaya Dlaney Dlisa Dnyla Dolorez Domingue Dominick Dominik Dominiqua Donaciana Donika Dore Doreena Doreene Dorelia Dorise Dorota Dorri Doua Doylene Dreanna Dreya Drinda Dulcey Dyanara Dyane Dynasti Earle Earlisha Early Earsie Eavan Ebbie Ebelia Eddye Edica Edid Editha Ednamae Ednita Edolia Eduviges Eftihia Egla Eiley Eiliana Eilyn Elanna Elaura Eldine Elecia Eleftheria Elenna Elenoa Eleora Elesha Elga Eliabeth Elian Eliani Elisea Eliset Elita Elizabe Ellani Ellanore Ellean Elleanna Elleen Ellenore Elley Ellissa Elloise Ellyssa Elmo Elner Elody Elona Elonna Eloyse Elpidia Elsia Elton Elvis Emanuella Emarosa Emelee Emeree Emerine Emerita Emie Emilianna Emiliya Emilyanne Emilyrose Emira Emmaclaire Emmajean Emrys Emylia Enchantra Endora Engracia Enisa Enolia Enzley Epsie Erabella Eria Erial Erikah Erilyn Ermal Ermine Ernell Ernesteen Ernestene Erryn Ersilia Esmi Estalee Estefanita Esteffany Estellene Estoria Estreya Ethelreda Ethelrine Ethlyn Eulala Eusevia Eutha Eutimia Evalette Evalin Evalyna Evalynne Evanee Evangaline Evangelita Evania Eveleigh Evelen Evelett Evelise Evenny Everlene Everlina Everline Evora Ezelle Ezinne Ezoza Eztli Faatimah Fahm Falan Faline Fantasha Fareeda Fartun Farzeen Fatina Febe Felipita Fergie Fey Fianna Finnleigh Fizza Flecia Florean Florece Florestine Floribel Flory Fonnie Forest Fozie Francelia Francella Francessca Francile Francille Frania Franklin Frankye Frann Franne Freddye Freyda Fryda Gabbie Gabiela Gabina Gaila Galadriel Galen Gali Galiana Galya Garcia Garine Garnelle Gathel Gaudalupe Gaylon Geannie Gecenia Geetika Geisha Gelisa Gemini Genee Genendy Genene Genessy Genette Geneve Geni Genieve Genises Genoa Georgi Geraldin Geralene Gerane Gerardine Gerldine Gertrudes Ghadeer Ghislaine Giovannina Gisette Gittle Giuseppa Gladine Glenadine Glender Glendola Gleneva Glenisha Glida Gloriajean Gloristine Glyn Glynn Gonzala Gordana Gordean Gordie Goretti Gorgeous Gracelin Gracelynne Graciana Graple Greenley Gregg Greicy Greisy Guadelupe Guadlupe Guadulupe Gudalupe Gudelia Guisela Gunnar Gurjot Gursirat Guydra Gwynevere Gwynneth Gyanna Hade Haedyn Haelee Haeley Haely Haidi Hailea Hailynn Haizel Haja Halimatou Hallel Hally Halston Hamda Hani Haniyah Haniyyah Hannahgrace Hannie Hannya Harkiran Harlea Harlean Harleyquinn Harlo Harmehar Hassan Haukea Hava Hayla Hayslee Hazelee Healani Hee Heela Heidie Hema Hena Heriberta Hermenia Hiawatha Hibba Hidaya Hikma Hildagarde Hilja Hilliary Hinaea Hinckley Hiral Hiyab Hjordis Hoai Hoang Homer Honore Hripsime Hser Hubbie Hudes Hudis Hudy Hugo Ibis Iceola Icey Icsel Idalina Idalmis Idman Ifeoma Ignacita Ijeoma Ikesha Ikia Ilaisaane Ilany Ilea Ilham Ilihia Ilma Ilya Imagine Inetha Io Iolani Iqlas Iraima Irany Irazema Iremide Ireon Ireri Ireta Irianna Irving Isabeau Isatu Islay Ismahan Ismay Isola Issamar Itasca Itcel Itzanami Ivannah Ivannia Iviana Ivis Izamary Izaria Izelle Izumi Izzabelle Jaala Jaanai Jabrea Jackquline Jacolyn Jacques Jacquese Jadalys Jadasia Jadey Jaedynn Jaeleigh Jagger Jahlisa Jahnasia Jahnyah Jahnyla Jahzaria Jaiah Jaianna Jaidalyn Jailia Jaima Jakaylah Jakera Jakyria Jalaine Jaleigha Jaleisa Jaleria Jaleyza Jalyne Jalysa Jamala Jameca Jamieann Jamilee Jamilett Jamille Jamiyla Jamiylah Jammi Jamylah Jamyriah Jamyrie Janaia Janautica Janeah Janeil Janeka Janete Janiaya Janil Janila Janin Janisa Jannice Jany Japonica Jaquelynn Jaquisha Jaquitta Jarethzy Jaritsa Jarmila Jasalyn Jasani Jasha Jasie Jasira Jaskirat Jasman Jasmely Jatana Jatasia Jatoya Javaeh Javiah Jawana Jaycelynn Jaydalynn Jaydenn Jaydie Jaylea Jaylei Jayliah Jaylina Jayma Jaynae Jaysha Jazara Jazariyah Jazbel Jazmene Jazsmine Jazzleen Jazzman Jazzmyne Jazzy Jeanae Jeanet Jeaneth Jeanni Jeena Jehlani Jema Jenafer Jenah Jenalyn Jenaveve Jency Jenessy Jenia Jenille Jenipher Jenisse Jenita Jennett Jennetta Jennier Jenniferann Jerene Jeriah Jericca Jericha Jerlyn Jermeka Jermia Jermiah Jermiyah Jerome Jerra Jeslin Jess Jessabelle Jestina Jesucita Jesyka Jetzabel Jeweliana Jewelisa Jewelyssa Jewelz Jeylah Jeylen Jezebelle Jezzel Jharline Jhovana Jiayue Jillaine Jillane Jillayne Jilliana Jilliane Jilliann Jillianna Jimi Jinna Jinx Jisell Jiyah Jleigh Jnya Joanny Jobita Jocely Jochebed Jocilyn Jodette Joelie Johnanna Johnathan Johnathon Joleena Joley Jonee Jonesha Jonquil Jonylah Jordain Jorene Jorgina Josaline Josanne Joselle Josephin Josephyne Josi Josiah Josphine Jossette Jovanda Jovani Joyceann Joylyn Jozlin Juany Judianne Julane Juleen Juliannah Juliene Jullisa Jully Julya Julysa Juni Junior Jurell Justilia Jyoti Kaarin Kachina Kacia Kadasia Kadeejah Kadidia Kae Kaedance Kaelan Kaelynne Kahli Kahne Kailanie Kailene Kainani Kairo Kaisleigh Kaislyn Kaisyn Kajuana Kalanie Kaleya Kalimah Kalisa Kaliyanei Kallen Kalliyan Kalynne Kalyse Kamarie Kamberlyn Kambra Kambrey Kameisha Kamil Kamile Kamily Kammie Kamoria Kamyia Kanaya Kanwal Kanyla Kaola Kar Karene Karia Karigan Karil Karita Karlei Karlyne Karman Karolynn Karrina Karthika Kashanti Kashay Kashe Kashish Kashlynn Kashmere Kassia Katalena Kateena Katelen Katelynd Kathaleya Kathleena Kathrynn Kathyann Katilynn Katima Katira Katiuscia Katleyn Katonya Katriel Katsue Katsuko Kattia Katye Kaui Kayah Kaydi Kayelee Kayelynn Kayleeann Kayliegh Kaylonnie Kayron Kaysee Kaysi Kayte Kayti Kazlynn Kazzandra Keahi Keairra Keanu Kearstyn Keatyn Keelan Keikilani Keileigh Keiosha Kekoa Kelaia Kelee Kelene Kelsye Kely Kemaya Kendle Kendrick Keniah Kenlei Kennidy Kensly Kentley Kenyanna Kenzee Kenzli Kerria Kerrilyn Kerryn Keshawn Kesley Keslyn Kestrel Ketara Ketina Ketra Ketsy Keundra Kevyn Kewanda Keyanta Keyatta Keyonda Keyonni Keyshia Khadeejah Khadjah Khadra Khai Khala Khalea Kharisma Kharter Khristi Khristian Khrystyna Khushpreet Khya Khyleigh Khyli Kianga Kianie Kierah Kima Kimanh Kimbery Kimerly Kimla Kimyata Kinnick Kinzee Kioni Kiora Kippy Kirstan Kirti Kissie Kla Klaira Kleo Kobie Koda Kohana Koleta Komalpreet Kona Korla Kornelia Kortlyn Koryna Kotryna Kourtlynn Kowsar Koy Kresta Krisann Krishika Krisi Kriss Kristela Kristiane Kristiann Kristl Krithika Kritika Krystalynn Krystelle Kseniya Kulia Kutana Kwana Kyaira Kyerra Kylen Kynlea Kynlei Kyrene Kyrstie Laakea Labella Labrea Labrenda Lacheryl Laconda Laconya Lacrisha Ladawna Ladena Ladina Ladora Ladye Laekyn Laelia Lafaun Lafaye Lagina Laiana Laiklyn Lajessica Lajuanna Lakeeta Lakeita Lakema Lakessa Lakindra Lakira Lakisa Lakresha Laksmi Lakyra Lalanya Lalia Lamarr Lameeka Lamika Lanay Landra Lanier Laniqua Lanyia Lanyiah Laporscha Laquan Laqueta Laquinthia Laquishia Laresha Larinda Larsen Lasaundra Lasean Lashanay Lashara Lasharn Lashavia Lasheika Lashera Lashira Lashond Lashonna Lashuna Latamara Latangela Latarya Latayna Latayvia Lateefa Laterra Latiera Latoi Latondra Latonga Latoyah Latoyna Latrease Latressa Latronda Laurabelle Laurajean Laurencia Laurita Lavaeh Lavasia Laverle Lawandra Lawsyn Layani Laylene Leahna Leala Lealer Leanah Leanza Leasha Lectoria Ledia Leeasia Leelee Leesha Legacie Lehiwa Lehlani Leiani Leightyn Leilanee Leilaney Leily Leita Lelania Leliana Lemmie Lenina Lennan Lenya Lenyx Leoda Leonilda Leonise Leronia Lesleyann Lesliee Lesta Letesha Letetia Letzy Levada Levern Levis Lexey Lexxie Leyanna Lezlee Lezli Liany Libertad Liduvina Lidwina Liese Lile Lileigh Liliah Lilibet Lilieth Lillion Lillybeth Lillyonna Lilu Lilyona Limairy Lindia Lindita Linsy Linzi Lionor Lira Liria Lisbel Lisia Lismary Lisvet Lithzy Lizel Lizveth Lizvette Lizza Lizzieann Lladira Llana Lloana Lodell Lodema Lodena Logyn Lolly Londin Lonia Loralai Loralye Lorelie Lorell Lorella Lorez Lorma Lorren Lorrene Lotta Loula Louren Lousie Louvinia Lovelyn Lovey Lowen Loyd Luberdie Lubov Lucely Lucesita Lucielle Lucyann Luddie Ludwika Luecile Lugardita Lujean Luma Lun Lunarose Lundon Lurlean Lurleen Luther Lutrelle Luvinia Luwanda Luzia Luzma Lyasia Lyly Lyndie Lynea Lynee Lynix Lynnann Lynnett Lynnex Lytzy Lyzeth Maame Macala Macenzie Macon Madaleine Madani Madasyn Maddelynn Maddi Maddux Maddyx Madeira Madelena Madeley Madgeline Madissen Maedelle Maela Maeli Maeson Magalis Magdelene Mahaley Mahati Mahjabeen Mahlani Mahrosh Maidah Maie Maire Majerle Majestic Makailyn Makalynn Makaylie Makenize Makenlie Maki Makinlee Makyia Malachi Malai Malajah Maleeha Maleigh Malini Malissia Malissie Malya Malyn Mamye Mandalyn Manette Manmeet Mansirat Manvi Maragret Maraki Marcea Marcedes Marcelene Marcellina Mardel Marea Marene Maretta Marfa Margarit Margia Marguarite Margulia Mariaangelica Mariacristina Mariadelosangel Mariaemilia Mariaesther Mariapaula Mariatheresa Marice Maricris Maridee Mariele Mariem Marieme Marilyne Marison Marivic Marji Marka Markella Markeria Markesia Marketia Markevia Marki Markiyah Marlaysia Marlea Marleena Marlies Marlise Marlisha Marnisha Marny Marquelle Marqui Marquite Marrion Marshelia Marshell Marshelle Martia Marvelene Marvelle Marvene Marvie Marvyl Marylynne Maryse Maryum Mashawn Mashayla Masiya Masuma Matalyn Matha Mathea Matina Matison Matline Matraca Mattilynn Mattingly Maurene Maurita Maxi Maxiel Mayara Mayari Maydeen Mayfred Mayling Mayuri Mayvis Mazuri Mazzie Mckaela Mckala Mckall Mckaylah Mckaylynn Mckenize Mckenzey Mckenzye Mckinnley Mckinsley Mckinzee Mckynna Mcneva Meagon Mechell Meeka Meesha Meeya Meganelizabeth Meggin Meghaan Megin Mehek Mehjabeen Meichele Meilan Meilyn Meirav Mekesha Melanieann Melat Melayah Melaysia Melchora Meleane Meleena Meleni Melessa Melis Meliss Melitza Melveen Melvis Melysa Menna Meoshia Meral Mercadies Meridian Merikay Merit Merla Merlie Mersadies Mery Meshelle Mey Miaisabella Mialynn Miaya Micalah Micel Michaelann Michaelina Michaelyn Michelleann Michellee Michiah Michiye Mieshia Migna Mija Mikalyn Mikea Mikeila Mikeshia Mikiala Mikiya Miladie Mileigh Milenka Miles Mililani Minah Miquelle Mirabai Mirakle Mirasol Mirca Misel Mishell Missi Mistee Misue Mitsuru Miu Miyani Miye Miyisha Mliss Moani Modine Moeshia Mohini Molina Mollee Momina Momoe Monie Monik Monquie Montgomery Monya Monyae Monyette Monzelle Monzeratt Moranda Morene Morgana Morgane Moriyah Morning Morris Morrison Mozter Muguette Mui Mulki Munachiso Munirah Munisa Murdis Murel Murrell Mykalah Mylan Myles Myley Mylin Myree Myrene Myrian Myrical Myrlande Myrlene Myshia Mystic Mystica Naailah Naara Naba Nacy Nadezhda Nadina Naelani Nahal Nahlia Naiah Naiema Naiovy Naizeth Naje Nakema Nakira Nakyia Nakyla Nalaysia Nalina Nameera Namirah Namya Nancylee Nandita Naoko Naquana Naquasha Narcedalia Narcille Narcissa Narice Narjis Narvis Nasiah Nasirah Nasreen Nassim Natara Natassha Nateria Nathalye Natia Natina Natoria Natoshia Navey Navia Nawaal Nayab Naydeli Naylee Naysha Nazaret Nazeli Nazirah Ndea Ndia Nea Necia Neelah Neesha Negan Negar Neko Nelissa Nellora Nephtalie Neriyah Nesita Nestora Nevah Neya Ngan Ngozi Ngun Nhyla Niaja Niasha Niaya Nicoleanne Nicolemarie Nicolet Nicosha Nicy Nihal Nikema Nikima Niloofar Nini Ninoska Nirel Nishika Nitika Niveah Nixaliz Niyana Nobu Nocole Nondas Normajean Normalee Norvis Novalyn Novice Nube Numa Nury Nuzhat Nyaisa Nyala Nyanna Nyasiah Nydirah Nyemah Nyiesha Nyirah Nyja Nykea Nykesha Nykole Nylee Nylia Nyx Oasis Obera Odaly Oddie Odena Odeth Offie Ogechi Ohemaa Olanna Oleen Olivianna Olivya Oluwalonimi Omaria Omelia Ommie Omotayo Omunique Oneka Ong Onolee Ophia Oppie Orabelle Orchid Ordella Oreatha Oreta Orfa Orfalinda Ori Orit Orlena Orlene Orlidia Orna Ornella Orneta Orquidea Orvella Orvilla Osnas Oteka Othello Ottilia Oveda Oveline Ovella Oveta Ovida Oyindamola Ozite Padma Paeton Pairlee Paislyn Paisyn Paiten Paitynn Paizleigh Palmyra Panayiota Par Para Parniece Parvina Parys Pascha Pasqua Patches Patra Patrcia Patrecia Patriciajo Patzy Paulyne Pearlee Pearlina Pegah Pegge Peightyn Pella Peni Perle Perline Pesha Peshy Pessie Peytin Pheba Phenix Philomenia Phuc Phylliss Phyllistine Pierce Pietrina Pihu Piilani Pinar Pinkey Poet Polett Pomaikai Portland Posie Prabhleen Prajna Pranathi Preethi Prerana Pretto Pricsilla Prisca Prissy Qamar Quanetta Quanika Quaniya Quatesha Quatisha Queenasia Quessie Quetzal Quinci Quinesha Quinette Quinisha Quinlee Quinlyn Quinlynn Quintessa Quinton Raahi Rachelanne Rachyl Radoika Raejean Raeley Raeli Ragna Raha Rahcel Rahima Rahwa Raifa Raiven Rajdeep Rakel Rande Ranijah Raphaela Raquelin Raquell Rashada Rasheida Rathana Ravan Ravleen Ravonda Rayhona Raylina Raymona Rayona Raysha Rayshawn Rayvin Raziyah Reah Reanetta Reannon Reathel Reaver Rebacca Rebecah Rebie Redell Reemas Reggie Rehana Rehma Reia Reinette Reitzy Rekha Relina Remmie Remmington Remmy Remonia Renlee Rethel Reveca Reygan Rhelda Rhetta Rhianon Rhonna Rhylin Richardean Riddhima Rielyn Riham Rion Riot Roaa Roanna Roanne Roben Robenia Robina Rochella Rockell Rocquel Rocsi Roderica Rodneshia Rogelio Rogena Rohini Rokia Rokiatou Rokisha Romaisa Romanda Romanita Ronata Rondia Ronin Ronique Ronnah Ronnetta Ronniesha Ronya Roosevelt Rosaicela Rosala Rosaysela Rosela Roselani Roselind Rosemaria Rosemond Rosezella Roshana Roshaunda Roshell Roshon Rosielee Rouguiatou Rovena Rozann Roze Rozena Rozia Rozie Rubee Rubell Rubena Rubit Rubylee Rubyrose Rukaya Rupa Ruperta Rupinder Ruqaya Ruqayyah Russell Ruthey Ruvi Ryenn Ryleeann Ryn Rynn Saajida Saarah Sabarin Sabree Sabrian Sabrie Sabriyah Sabryn Sachie Sadiee Sadiga Sadira Sady Saeko Safiatou Safreen Saher Sahori Sai Saidah Saide Sairy Sajada Sakae Sakara Saketha Salam Salley Sallyanne Salmo Salote Salvatore Sameen Samehesha Sameria Samhitha Samona Samorah Samoria Sanaia Sandrine Sangeeta Saniyya Sanjna Sanora Santasia Santiago Santrice Sanvika Sanvitha Sanyia Sanyla Sapir Sarabelle Sarae Saraiya Saranda Saratha Sarely Saribel Sarine Satin Savonna Savreen Sayana Sayoko Saysha Scherrie Seaneen Seattle Sefora Selda Seleen Selest Seleta Sema Semiko Semiyah Semone Senia Seniyah Senorina Senovia Sensi Sentoria Serel Serenah Seri Serly Serrena Serrita Sevilla Sevinch Shadestiny Shahad Shahadah Shaheedah Shahida Shahzoda Shailene Shaily Shajuana Shakeeka Shakeeta Shakerra Shakevia Shakeyra Shakiyah Shakthi Shakyla Shalayne Shaleena Shaletha Shalia Shalva Shameria Shametria Shamila Shamra Shamyah Shamyia Shanah Shandale Shandria Shanekqua Shaneque Shanesha Shanetra Shanley Shannara Shantall Shanterica Shantice Shantika Shantina Shany Shaquandra Shaquanta Shaqueen Shaquna Shaquoia Sharah Sharaine Sharece Sharin Sharine Sharlette Sharli Sharmila Sharnay Sharnise Sharoya Sharvae Shateema Shatera Shaterria Shatha Shatira Shaune Shauntal Shauntia Shavaughn Shavaun Shavontae Shawndee Shawnetta Shawniece Shawntrell Shaylen Shayra Shearon Sheeba Sheeva Sheida Sheilla Shekia Shekina Shelina Shelisa Shellyann Shelvey Sherah Sheral Sherilynn Sherion Sherl Sherlynn Sherolyn Sheronica Sherral Sherrica Sherrilynn Sherrin Sherrina Sherrise Sheylin Sheyna Sheza Shifa Shilat Shilynn Shima Shindana Shine Shinika Shinita Shiori Shiri Shirleymae Shirly Shirlyn Shirlynn Shivali Shivon Shizuyo Shonterria Shoshannah Shraddha Shresta Shulamith Shunte Shuntel Shuronda Shwanda Shylo Siahna Siarah Sibel Sible Sibylla Siclali Sidnie Sidrah Sidratul Siennah Simarpreet Simmie Sinforosa Siobhain Sireen Sirenity Sista Sixta Siyah Skyelynn Skyllar Skylor Skyrah Slater Sloka Smita Smrithi Snezana Sobeida Sokhom Solay Soleia Solenne Solina Solstice Solvi Solyana Somya Son Sonakshi Sonceria Songa Sonni Soo Sophana Sophear Sophiagrace Sotiria Soumaya Soveida Soyini Spruha Sreeja Sreshta Sritha Staphanie Starkeisha Starkisha Starlee Starlette Stehanie Stephaie Stephaney Stepheni Stormee Stphanie Su Subrena Success Sucely Suda Suetta Suhavi Suheidy Sukari Suleika Sultana Sumako Sundae Sundee Sunya Suong Suvi Suz Suzett Suzonne Syanna Sybella Sybol Sylvi Syndee Syrianna Ta Taaliyah Tabby Taeko Taesha Tahari Tahiri Tahja Tahlor Taisley Taitum Tajana Taje Takeema Takeia Takeko Taleia Taleyah Talicia Tallula Talonda Tamae Tamarie Tamasha Tamber Tamberly Tamecia Tamekka Tamer Tamlyn Tammatha Tammee Tammika Tamryn Tanda Taneil Tanequa Taneya Tangala Tangee Tanikqua Tanique Tannisha Tanyiah Tanzie Taquanna Taquasia Taquila Taralynn Taria Tarika Tarri Tarshia Tarynn Tashala Tashanti Tashea Taslin Tatayana Tatem Tatevik Tauni Tauriel Tavon Tayde Tayona Tayzlee Taziyah Tazuko Tecia Teera Teira Tejal Tejuana Tekela Tekesha Tekisha Telia Tema Temeika Temesha Temisha Temitope Tenea Teniqua Tenise Tenleigh Tennesha Tennile Tere Terez Teria Teriana Terie Terin Terran Terren Terressa Terrilynn Terrisa Teruyo Tessy Tevis Texanna Teyona Thanvi Thecla Thekla Thelda Theone Thera Theta Threasa Thuan Thula Thuytien Tiaa Tianni Tiernan Tiffay Tika Tila Timaya Timiko Timisha Timitra Ting Tinna Tinsleigh Tionni Tippi Titania Titianna Tiye Tiyonna Tniya Toka Tomacita Tomara Tomasina Tomeca Tomesha Toneka Torianna Torina Toryn Toye Trace Tramika Travia Treanna Treba Trellany Trenae Trenisha Trese Tria Trinetta Tristina Triston Truby Tryniti Trystin Tsuneko Tsuruyo Tsutako Tulani Tuleen Tunisha Tuongvi Twalla Tyashia Tye Tyeesha Tyese Tyhesha Tyja Tylashia Tylene Tymia Tynetta Tynleigh Tynnetta Tynslee Tyquasia Tyranika Tyrhonda Tyrika Tyrion Tzipa Udell Uliana Umaima Umeno Uriel Uriyah Urvi Uzma Valecia Valen Valency Valerye Valia Valla Valta Valyncia Vandy Vanecia Vanella Vanessia Vanezza Vanteen Vashon Vasthi Vauda Vaudine Vedanshi Vedha Veleka Velvie Venba Venicia Venisha Vercie Verdelle Vergene Veria Veridiana Verl Verlin Vermont Verneda Verner Vernestine Vernisha Veronic Vertis Vesna Vestal Vetra Vianet Vibiana Vichelle Vicke Vicktoria Vidala Videl Vidushi Viera Vieva Vihaana Vika Villa Vincenzia Viona Virda Virdell Virgiline Vitalia Vivyana Viyona Vona Vonciel Vontresa Vrinda Vung Vyolet Wadeeah Waldene Wallis Wally Waltina Waniya Waveline Waynisha Wendelin Wendelyn Weston Westonia Wicahpi Wiley Wilfred Wilhelmine Wilhemena Willadene Willavene Willet Wilmajean Wilmina Wilnelia Winfred Wing Witney Wladyslawa Wonnie Wray Wreatha Wydell Wylean Wylodean Wylodene Wyona Wyteria Xayla Xela Xianna Xoey Xue Xymena Yaasmiyn Yachy Yadirah Yadria Yaeli Yaelis Yagmur Yahir Yailene Yairis Yakeline Yalexi Yanai Yanell Yanellie Yanelys Yannely Yannet Yannis Yaquelyn Yared Yareliz Yaremi Yarielys Yarisa Yarisbeth Yarithza Yasheka Yasirah Yaslene Yasna Yatzary Yaxeni Yayeko Yayoi Yazmyn Ydania Yelenis Yelissa Yenna Yerania Yesika Yesly Yesmin Yianna Yihan Yinuo Yisell Yitel Yizza Ynes Yoali Yocasta Yoland Yolandra Yolunda Yoshi Yoshida Yuan Yudany Yudelca Yue Yuleidy Yulie Yuliya Yuma Yveth Yvonda Yzabelle Zacaria Zahlia Zahro Zaidy Zaima Zaineb Zairah Zakkiyya Zakyra Zaliah Zalynn Zamyah Zamyria Zanae Zanai Zanaria Zanayah Zander Zanetta Zani Zanib Zanyia Zareena Zariel Zavannah Zayanna Zaybree Zayley Zeba Zeinabou Zelphia Zeltzin Zeniah Zenorah Zenovia Zerlina Zeya Zeynab Zhana Zienna Ziham Zinachidi Zipora Zitlalic Zitlally Ziza Zniyah Zobeida Zohal Zondra Zorah Zudora Zuhra Zuleidy Zuma Zyairah Zyan Zyeria Zykeriah Zykierra\n",
      "\n",
      "Gender: Male. \n",
      "Number of appearances: 5\n",
      "List:\n",
      " Aadhvik Aadin Aaronjoshua Abbie Abdihafid Abdiqani Abdirahim Abdishakur Abdo Abdulai Abenezer Abhijot Abigayle Abrham Abron Acencion Ackley Acxel Acy Adalid Addis Ade Adeeb Adetokunbo Adolphe Adrick Adrin Adrion Aerick Afshin Agim Agnew Ahmarion Ahmaud Ahmid Aideen Aikeem Aiken Aiman Airrion Aisea Aitan Ajahni Akeel Aki Akiem Aladdin Alassane Alastor Alberta Albie Albieri Albiery Aldor Aldric Alejando Alekxander Alesha Alessand Alexanderjames Alexy Alezander Algerd Alhaji Alhassan Alian Alii Alikai Alisher Alissa Aljandro Allard Almir Aloysuis Alsexander Altarik Altonio Altus Alvey Alyas Alyjah Amanpreet Amariyon Amarri Amauris Ameet Americus Amiir Amjad Amori Anant Andhy Andie Anel Aneudi Angeles Angelina Angeljesus Aniseto Ankush Annette Antawan Anterrio Anthonny Anthonyjohn Antionne Antiono Antoinne Antrell Antrone Anze Arbi Arcenio Ardith Arel Areli Arend Arihant Arinze Aristide Ariv Arjunreddy Armarion Armias Arren Arrion Artavis Artee Artez Arth Arthor Artice Artyom Arul Arvine Arwin Asahi Asani Asao Ashford Ashir Ashlan Ashly Ashmit Ashneel Asriel Aster Asuncion Aswad Aswell Atha Athel Athos Atthew Audi Audwin Augustas Auguste Aurohom Aurther Austreberto Avet Avir Avis Avishek Avo Awab Awet Aws Axzel Aydeen Aydyn Ayeden Azaryah Azavion Azeez Azimjon Azlaan Balthazar Barclay Bardo Barnard Barre Barth Basel Basem Basheer Bassel Bastion Batu Baxton Bayan Bayardo Beaumont Behr Bela Belisario Benedicto Benford Benjaminjoseph Benjy Benno Bensen Bensyn Bentlie Berenice Beril Bernerd Bernis Berthal Bessie Beto Bevan Bhavik Bhavin Biff Biju Birl Birt Bisente Bixby Blakeley Blayde Bleu Boban Bobbye Bodin Bonny Bookert Boomer Borden Bossie Brack Bradan Braelin Brahim Brahin Braijon Branko Brannan Branndon Brasen Brason Braxston Brazen Breaker Brek Breland Brennyn Brentt Brevyn Brick Britten Brix Brodyn Bron Bronner Broughton Browder Brunson Bryheem Bryndon Bryor Brysun Bunyan Burch Burdell Burleigh Burlie Burnet Burris Burwell Byrd Caelen Caellum Caeson Caileb Calian Calib Calton Camauri Cambron Camerino Camil Camile Canio Caprice Carina Carlens Carless Carly Carrick Cartel Carvel Carville Carvin Casin Castin Castor Catcher Catello Cato Caven Cayce Caydan Cedarius Cedell Ceejay Chaffee Chaitanya Chaney Chanina Chanler Chantra Chau Chay Chayden Cheenou Chen Chene Cheveyo Chezky Chidozie Chief Chrisangel Chrishun Chriss Christepher Christianpaul Christophere Christropher Chritian Chrystopher Chukwudi Chukwuebuka Chuna Ciara Cinch Cire Clanton Claudis Clausell Claxton Clayburn Clayten Cleason Cleaster Cleland Cleother Cleotis Clete Cluster Cobie Colen Colleen Colman Confesor Contrell Corando Corbet Cordario Corday Cordelro Corderius Corneall Cortavius Cortlen Cote Cowen Coyte Credell Creede Creedence Creon Cresenciano Crews Crixus Cung Custer Custodio Cutberto Cyrille Dabin Dacian Dacotah Daelen Daer Daeshaun Dagmawi Dago Daguan Dai Dailon Daimien Daimon Dairon Dakeem Dakhari Dal Dallis Damain Dameir Damonta Danell Danieljohn Dannon Dannye Dantavious Dantrel Danyale Daquane Daric Darik Darith Darlene Darnley Darol Darrie Darriel Darrly Darrol Daruis Dashan Daveyon Davidmichael Davier Davinder Davionne Davonn Dawon Daxtin Daxx Dayro Dayvian Deamonte Dejaun Dejour Deke Delane Delia Delno Delontae Delontay Delphine Demarian Demarques Demarrion Demetreus Demetrias Denali Denson Deo Dequante Dequon Dermott Deroe Derrike Derrin Derward Deshone Desmund Destan Deston Detavious Detroit Deundra Deval Devanand Devaun Devendra Devindra Devontre Devoris Devyne Dewaine Dewan Dewie Dewin Dexton Dezhon Dezmen Dhairya Dhruvan Diarra Dierks Dinesh Dinh Dione Dionne Diontay Dishawn Dishon Djavan Dmonte Doak Dodger Doil Dois Domanique Domenik Domer Dominador Dominga Dominico Dominyk Donathan Donley Donnald Donoven Donovon Dontaye Donterrius Donzel Dorrance Dow Doyel Doyt Draden Draiden Draxler Drayce Drelon Drelyn Drelynn Drin Dub Duffy Duglas Duilio Durwin Dvid Dyami Dyron Eagan Eames Earlis Eashan Easley Eddrick Edell Edgerrin Edilson Edlin Edmar Edner Edoardo Edrees Edrei Edrian Eduardoluis Edurdo Edwardjames Efrayim Efstathios Efton Egidio Egon Ehitan Eiji Eilan Eirik Eito Elai Elber Elby Eldie Eldredge Eldrick Eleftherios Elek Elex Elhadj Eliana Eliav Eligha Elijahjames Elise Eliverto Eliya Elmar Elmin Elnatan Elves Elward Elworth Elyon Elzy Eman Emeka Emerito Emersyn Emilie Emilien Emiterio Emrick Emron Endi Eneas Enson Ephriam Epigmenio Epitacio Eppie Equan Erasmus Erasto Erbey Erian Eriksen Erineo Erinn Eris Eriverto Erle Erman Errik Ersel Esiquiel Esmond Esperanza Essiah Estephan Estus Eswin Ethanjacob Ethanjoseph Ethelbert Ethon Euclide Eufemio Eulices Eulojio Eury Eutiquio Evart Evo Evrett Exzavier Eyob Eyoel Ezel Faber Fadel Faizon Fallou Famous Fannie Farbod Fatima Fatin Fatmir Faust Female Fender Fermon Fernell Ferrel Festus Fidelio Finbar Finnlee Flabio Flay Flemming Floy Fontaine Fordyce Forney Forster Fowler Francesc Francesca Franchot Francico Frantzy Fraser Frederi Frederik Fremont Frumencio Fuad Gabor Gabreil Gabrian Gaddiel Gaddis Gaelan Gahel Gardiner Gared Garl Garlon Garnell Garreth Garrin Garyn Gatlyn Gaudencio Gaylin Gaynell Gean Gelacio Geneva Geordy Georgia Gerardojr Gerber Gerhart Gervase Gesualdo Getzel Ghaith Giani Giezi Giordan Giselle Giulian Given Gjon Glendal Glendale Glenston Glenville Goldie Gottlob Graciela Gradyn Grae Grahm Graison Grayland Graylen Gregario Gregrey Gregroy Greko Guadlupe Guerry Guhan Guilford Gunter Gurtaaj Gurvir Ha Hady Haile Hailee Haines Hairo Hajj Haldrin Hale Hallet Halley Hamdi Hameed Hamish Hamse Hamze Hargus Harkirat Haroutun Harrington Harroll Harshdeep Hartwell Harvard Harveer Harwell Haskie Hassani Hatim Hawthorne Haylen Hazem Heflin Heladio Helder Henok Heraldo Herberto Herchel Herley Hermenegildo Hernesto Herold Heshimu Heywood Hezzie Hidemi Hiep Hijinio Hilberto Hilda Hildred Hillman Hilman Ho Hobie Hodge Hossain Hovie Hozie Hridaan Hristopher Huan Hudaifa Hudeyfa Hunt Hurschel Husain Hymie Hyun Ida Ifeoluwa Ilai Imer India Infantboy Infboy Ingram Ingrid Irtaza Isack Isais Isileli Issachar Ivon Iwan Izacc Izaias Izaiha Jabarie Jacai Jacarie Jacarius Jacobey Jah Jahel Jahking Jahlon Jahmarion Jahmeer Jahmez Jahmiere Jahmil Jahmire Jahn Jahquel Jahquell Jahsai Jaicob Jaimeson Jaise Jaiveon Jaiver Jaiyden Jaja Jak Jakarri Jakie Jakim Jakye Jakyren Jakyrie Jakyron Jaleesa Jamair Jamale Jamani Jamarco Jamareon Jamaria Jamarques Jamas Jamaul Jamaurie Jamesen Jamesryan Jamill Jamisen Jammy Jamone Jamorris Jamyron Janari Jandiel Jap Japhet Jaqualon Jaquante Jaquell Jaquill Jaquis Jaqwan Jarden Jarmall Jarome Jarreau Jarrin Jartavious Jarvin Jaryn Jasani Jasaun Jasher Jasinto Jasiri Jasun Jaswinder Jasyah Jatavian Javeion Javel Javery Javoni Javonni Jaxxson Jayde Jaye Jayel Jayin Jayjay Jaylun Jaymir Jaymz Jaythian Jayvier Jayziel Jaze Jazziel Jedaiah Jency Jensy Jensyn Jeoffrey Jephthe Jeral Jerami Jerauld Jeremiyah Jeriko Jeris Jermari Jermayne Jermery Jermicheal Jermon Jerrald Jerren Jerrol Jersen Jersey Jesua Jesusmanuel Jeudy Jhace Jibri Jie Jigar Jiles Jimari Jimson Jishnu Joann Joas Jobanny Jocqui Joemichael Joenathan Johnavon Johnchristopher Johnnathan Johnnye Johnta Johsua Jonanthony Jondarius Jonell Jong Jonh Jonhatan Jonibek Jontrell Jony Jorah Joseandres Joseeduardo Joseenrique Josejr Josephanthony Joseramon Joseth Josgar Joshuajames Joshuajohn Joshuamichael Joshuan Joshuaray Joshus Joshwa Josip Josje Josniel Josph Josten Josuha Jovi Jovonni Jrake Jsean Jshaun Jshawn Juanjr Juanramon Jud Jujhar Julez Jung Jushua Justinray Jylan Jyrin Ka Kabeer Kahmani Kahmari Kahne Kahseem Kaicen Kail Kailon Kaimalu Kaire Kairee Kaisei Kaitlynn Kalden Kalep Kalev Kaliq Kalum Kalyn Kamalani Kamaree Kamareon Kamen Kamronbek Kanard Kanav Kanji Karey Kari Karlin Kashdon Kasheen Kashius Kasiem Kasin Kassandra Kastiel Katrell Kaushal Kavari Kawaski Kawelo Kaydyn Kayle Kayleigh Kaylob Kaynen Kayon Kayron Kaysean Kaz Kazuyoshi Keaden Keaghan Keagon Keante Kedwin Keegen Keeland Keino Keiondre Keisean Kelvon Kelwin Kemal Kemarrion Kemaury Kemoni Kemontae Kenden Kendly Kenn Kentravion Keny Kenzie Keonta Keri Kerven Kesan Kesler Kestutis Kethan Keveon Kevis Kevondrick Keyaan Keylen Keylin Keyshone Keyshun Kha Khadir Khaiden Khalel Khalen Khalifa Khan Kharson Khayr Khodee Khyle Khyro Khyzer Kimmie Kimothy Kimsey Kin Kincaid Kindu Kingjames Kinsley Kiril Kiron Kiyomi Klever Kline Kmari Knolan Knute Koalii Koben Kohei Konstanty Korde Kortney Kowan Kreig Krishawn Krisna Krrish Krunal Ku Kuran Kurk Kushtrim Kvon Kwadwo Kwamel Kwane Kyeem Kyian Kyleanthony Kyndal Kyndall Kyo Kyrese Labib Labradford Ladamien Ladavion Ladislav Ladonte Lafe Laiken Lajarvis Lakhi Lamark Lamontae Lamorris Lancer Lander Landynn Langdon Lansana Lantz Laroyce Lasalle Lataurus Laterrance Latham Latonya Lattie Laureano Laurien Lavance Lavonta Lavoris Lawless Lawsen Layke Layten Lazerrick Le Lean Leart Lejend Lemond Lemoyne Lenis Lenoard Lenvil Leonide Leory Lerone Levelle Levent Levere Levii Levonte Lezer Liav Liberato Lieutenant Limmie Linc Lindley Linken Linward Livio Lizeth Lizette Loay Lochlann Loise Loman Londen Londyn Lonn Lonzell Lonzy Loomis Loretta Lorn Lothar Lothrop Louard Louay Louden Lourdes Loveless Lowen Lowery Lowry Loyde Lucia Lucille Luddie Luisdavid Luken Lunden Luvender Lyfe Lyndall Lyndel Maahir Maciah Mackenson Mackson Maclean Maclovio Madoc Madsen Mahan Mahari Mahesh Mahin Mahmud Mai Maira Maitland Maizen Majed Makay Makena Makiah Makua Malacai Maleko Malikhi Malosi Malyk Mamadi Mamady Mandel Manoj Manrique Mansfield Mansoor Mantas Mantej Manuela Marcjacob Marcua Marcuz Mardochee Mare Mareo Maricela Mariela Marios Marisela Markandrew Markavion Markevion Marlee Marqavious Marquarius Marquelle Marquize Marrion Marta Martavis Marten Martina Marvion Mas Masaaki Masakatsu Masaki Mase Masood Masson Mathayus Mather Mato Matsuichi Matthewjoseph Mauel Mavis Maximiano Maximili Maximillan Maxmillian Maxymilian Mayan Mayank Maykel Maze Mcadoo Mccrae Mcgwire Medard Medgar Medhansh Mega Mehran Melio Menasha Mergim Merrell Messi Michaela Michaeljoseph Micharl Mikie Miklos Millen Millie Minnis Miroslav Mizell Mizraim Mj Mohamedamiin Moisses Mondo Montarius Monti Montravius Montray Morgen Morio Morrissey Mosby Moss Motti Muadh Muhammadjon Muhammadyusuf Mukhtar Mukund Munachiso Mung Murat Murel Mustafe Myka Naail Naguan Nahun Naif Naithen Nakhi Namish Nandan Naoki Naphtali Naquon Narayan Nasai Nashid Nasif Nasire Natalia Nathanal Nathanuel Nathin Natrone Navdeep Navindra Nayib Nazaire Nazaret Nazeer Naziah Neale Nedved Nefi Nehan Nephtali Nereida Nereo Nethaniel Nevada Nezar Ngawang Nicandro Niccolas Nichelle Nicholad Nickholas Nickita Nickson Nicollas Nidal Nijah Nik Nikoloz Nilmar Nilson Niyam Noahjames Noal Noname Nord Norville Nox Nugent Nuri Nycere Nygel Nykolas Nyrell Oaklan Oba Obbie Obi Odaniel Odies Odilon Olavi Olee Oleh Oleksandr Ollivander Oluwaseyi Oluwatamilore Oluwatise Olyver Omair Ona Opha Orasio Oree Orian Orpheus Ory Oryn Osa Osco Osei Oshen Oslo Ostin Oswell Other Othon Othoniel Otmer Ott Oved Ovel Ovey Ovide Ozil Packer Pal Pardeep Paschal Pasqualino Pastor Pater Patrocinio Paulanthony Pavle Paxtyn Peace Pearse Pele Pelham Pellegrino Peni Pepe Perkins Petie Phat Philander Phillips Philopateer Phinizy Pio Piper Pope Prashant Praveen Precious President Pressley Presten Prestin Printes Pritesh Proctor Promise Prue Puneet Qaadir Qalid Quamane Quanah Quandell Quante Quaron Quasir Quavis Que Quenten Quention Quillie Quindarrius Quindell Quinnton Quintan Quintarious Quinterious Quinterius Quintyn Quisto Qusay Ra Raahim Raciel Rae Raef Raekwan Rael Raequon Rafat Rafferty Rahm Rahshawn Raine Rajdeep Rakin Rameek Rameen Ramesh Ramsay Ramsen Rani Ranjit Rannie Rashee Ratana Ratha Ravneet Rawley Raymar Raymont Raynav Rayner Raynor Rayson Razi Razmig Redford Reg Reice Reiley Remberto Renauld Renel Reo Resean Reshawn Reuel Reyhan Reyly Reynard Reynoldo Rhonda Rhone Rhyker Rhyland Richad Ricke Rilee Rilyn Rishav Rishit Ritchey Rjay Robbert Robertanthony Roberts Rochelle Rockne Rodarius Roddey Rodregus Rodric Rodrigus Roe Rohn Rolen Rollins Rolly Roma Romano Romar Romon Rondel Ronel Ronold Roran Rorik Roshun Rosser Rothana Rual Rudell Rudransh Rury Rutger Ruthvik Rutledge Ryananthony Rydan Ryer Ryson Saabir Sabatino Sabbir Sadler Sadrac Safet Safi Sahal Saheed Sahibjot Sahith Saifullah Saintclair Saiquan Sakariye Salaam Salaar Saladin Salam Salvotore Samba Samirjon Samiul Samori Samory Samrath Samyak Sandford Sankalp Saqib Sargis Sarith Sasan Saurav Savier Savir Sayid Sayquan Sayvion Seabron Seals Seananthony Seaver Sebastain Sedgie Seena Sehajveer Seiki Selbert Semaje Senai Sequoyah Sergi Severus Sewall Seydou Sha Shabd Shafter Shahab Shahmeer Shahrukh Shailen Shaiquan Shakeal Shakeil Shakiem Shaleek Shalim Shamal Shameer Shamond Shannan Shannen Shanton Shaquon Shariq Shariyf Sharmarke Sharone Sharrieff Sharron Shatiek Shaughn Shaune Shawnee Shawnn Shawnta Shaydon Shean Shian Shields Shig Shiheem Shin Shiquan Shivaansh Shivay Shneor Shogo Shone Shozo Shrihaan Shuaib Shuban Shue Shuichi Shyheed Sia Siah Siam Sigmond Silbestre Siler Silton Siris Sirus Siyuan Skylan Slaton Smiley Sofia Sohaib Sohrab Sohrob Soichi Soma Sophal Sophana Sorin Soua Soul Stavro Stclair Steed Sten Stillman Stiney Stjulian Stokes Stony Stoy Stran Strother Sufyaan Suleman Suliman Sully Sumit Summie Sun Suzanne Swen Syire Tadayoshi Taeden Taeshawn Tahitoa Tahjir Tahjmir Taige Taimur Tajay Taleek Taliek Tallie Talus Tamari Tandy Taner Tanis Tanmay Tannor Tanveer Tanyon Tarick Tarig Tarren Tarris Tashon Tavare Tavarious Tavita Tavone Taysean Tayshun Tayte Tee Teigen Temitayo Temur Tenzing Teodulo Teofil Teran Terin Terique Terrace Terris Tetsuro Tevion Thales Theartis Thelman Thelmon Theoden Theodia Therion Thimothy Thoams Thoms Thoren Thorvald Thunder Thurl Thurnell Tia Tian Tiera Tighe Tiheim Tilmon Tilton Tiodoro Tion Tishawn Toa Tobechukwu Tobi Tobyn Tokuichi Tomy Tonya Torben Torrell Torres Torrin Toshiro Tra Traevion Traivon Tramayne Tramon Trask Travone Travonn Travonne Traxton Trayden Trayshawn Trayvion Trenden Treshun Trevious Trevone Trevonne Treylan Treyveon Trig Trimayne Trinida Tristain Trong Trueman Tsosie Tsuyoshi Tulio Tuyen Tyan Tycen Tydrick Tyee Tyeler Tyke Tylee Tylique Tynell Tyrease Tyreem Tyronn Tysir Tyski Uel Ugochukwu Uladimir Undray Urias Ustin Uwe Vaishnav Valdez Valice Vanna Vannak Vanness Varick Vatche Vegas Velton Venice Verlan Vernis Versie Vestel Veton Vicken Vickey Vin Vinayak Vincient Vinn Vint Viransh Viren Virge Virtus Vishruth Vishwa Vitor Viyaan Volf Volney Vonn Vontrell Wa Wahab Wake Waldon Wane Wang Waqas Warfield Warnell Wassil Waver Wavy Waylin Westly Wiktor Wilberth Wilkins Willmer Wilma Wilmot Wilver Winferd Wingate Winner Winsley Wister Witt Wojciech Wood Woodard Woodruff Woods Wyeth Wymon Xang Xao Xiao Xzayvian Yacoub Yadir Yamato Yandell Yandriel Yarden Yaser Yasunobu Yavuz Yazeed Yazen Yedidya Yeeleng Yegor Yen Yerick Yessenia Yhair Yifan Yihan Yiyang Yoltzin Yonael Yonas Yony Yordy Yosbel Yoscar Yoshikatsu Yoshiro Yoshitaka Yosuf Yuan Yuren Yuriel Yusha Yussef Yuven Yy Zaakir Zaccheus Zackory Zailyn Zakhi Zakkery Zamauri Zamuel Zaniel Zannie Zarion Zarius Zaveon Zavior Zaykeese Zayven Zayvier Zed Zeek Zekhi Zennie Zerrick Zhane Zhen Ziare Zimere Zishe Ziyan Zohair Zubayr Zuhair Zygmund Zyien Zyire Zylon Zymari Zyron Zyshonne\n"
     ]
    }
   ],
   "source": [
    "unique_rnk_name_query = \"\"\"\n",
    "SELECT\n",
    "    name,\n",
    "    gender,\n",
    "    appearances,\n",
    "    RANK() OVER (PARTITION BY gender ORDER  BY appearances) position\n",
    "FROM (\"\"\"+ most_popular_name_query +\"\"\")\n",
    "\"\"\"\n",
    "\n",
    "unique_name_query = \"\"\"\n",
    "SELECT\n",
    "    name,\n",
    "    gender,\n",
    "    appearances\n",
    "FROM (\"\"\"+ unique_rnk_name_query +\"\"\")\n",
    "WHERE position = 1\n",
    "ORDER BY gender, name\n",
    "\"\"\"\n",
    "\n",
    "unique_name_result = bq.query(unique_name_query).to_dataframe()\n",
    "\n",
    "# Display the results\n",
    "female_name = \"\"\n",
    "male_name = \"\"\n",
    "print('Unique Name List:')\n",
    "print('Gender: Female. \\nNumber of appearances: ' + str(unique_name_result[unique_name_result['gender'] == 'F'].iloc[0]['appearances']) + '\\nList:')\n",
    "\n",
    "for i, name in enumerate(unique_name_result[unique_name_result['gender'] == 'F']['name']):\n",
    "    female_name =  female_name + \" \"+ name\n",
    "print(female_name)\n",
    "    \n",
    "print('\\nGender: Male. \\nNumber of appearances: '+ str(unique_name_result[unique_name_result['gender'] == 'M'].iloc[0]['appearances'])  + '\\nList:')\n",
    "\n",
    "for i, name in enumerate(unique_name_result[unique_name_result['gender'] == 'M']['name']):\n",
    "    male_name =  male_name + \" \"+ name\n",
    "print(male_name)"
   ]
  },
  {
   "cell_type": "markdown",
   "execution_count": null,
   "metadata": {
    "papermill": {
     "duration": 0.007618,
     "end_time": "2020-09-06T18:40:14.941525",
     "exception": false,
     "start_time": "2020-09-06T18:40:14.933907",
     "status": "completed"
    },
    "tags": []
   },
   "source": [
    "### What names are used for both sex?"
   ]
  },
  {
   "cell_type": "code",
   "execution_count": 7,
   "metadata": {
    "execution": {
     "iopub.execute_input": "2020-09-06T18:40:14.967837Z",
     "iopub.status.busy": "2020-09-06T18:40:14.966990Z",
     "iopub.status.idle": "2020-09-06T18:40:16.225869Z",
     "shell.execute_reply": "2020-09-06T18:40:16.225045Z"
    },
    "papermill": {
     "duration": 1.276462,
     "end_time": "2020-09-06T18:40:16.226004",
     "exception": false,
     "start_time": "2020-09-06T18:40:14.949542",
     "status": "completed"
    },
    "tags": []
   },
   "outputs": [
    {
     "name": "stdout",
     "output_type": "stream",
     "text": [
      "Unisex names: \n",
      "Number of unisex names: 3090\n",
      "List of names: \n",
      " Aaliyah Aaren Aarin Aaron Aarya Aaryn Abbie Abby Abeer Abigail Abigayle Abisai Abraham Abrar Abriel Abyan Ace Acie Adair Adam Adama Addie Addis Addison Adel Adell Aden Adi Adison Adler Adley Adonai Adrain Adrean Adrian Adriana Adriane Adriel Adrien Adrienne Afnan Afton Agam Ah Ahmari Aidan Aiden Aidyn Aiman Aimar Aime Ainsley Airam Ajani Akari Akira Al Alaa Alan Alana Alante Albert Alberta Alberto Albie Aldean Alden Aldine Alec Alejandra Alejandro Alesha Alex Alexa Alexander Alexandr Alexandra Alexandria Alexes Alexi Alexia Alexie Alexis Alexiz Alexsis Alexx Alexy Alexys Alfred Alfredo Ali Alice Alicia Alijah Alik Alika Alisha Alison Alissa Alix Aliyah Alize Allante Allen Allie Allison Allyn Alma Almer Alondra Alpha Altair Alva Alvie Alvin Alvis Aly Alyssa Aman Amanda Amandeep Amando Amani Amanpreet Amar Amara Amare Amaree Amari Amarie Amarii Amaris Amauri Amber Amel Amelia Amen Amere Americus Ameya Ami Amil Amir Amit Amor Amori Amory Amrit Amy An Ana Anay Anderson Andi Andie Andra Andre Andrea Andree Andres Andrew Andy Anel Angel Angela Angeles Angelica Angelina Angelita Angelo Anh Anibal Anita Anmol Ann Anna Anne Annette Annie Anthony Antoine Antonia Antonio Apolinar April Ara Araceli Aramis Archer Archie Arda Ardell Arden Ardis Ardith Areli Ares Argie Ari Aria Arian Ariana Arie Ariel Arielle Aries Arin Arion Aris Ariyan Arlee Arleigh Arlen Arlene Arley Arlie Arlin Arlis Arlo Arlyn Armando Armani Armanii Armoni Arnell Arnie Arnold Arrow Arshdeep Arshia Artemis Artha Arthur Artie Artis Arturo Arvie Arvis Ary Arya Aryan Asa Asani Asante Ascencion Ascension Asencion Asha Ashanti Ashby Asher Ashlan Ashlee Ashleigh Ashley Ashly Ashlyn Ashten Ashtin Ashton Ashtyn Asia Asiah Aspen Aster Astin Asuncion Atha Atlas Atlee Atley Aubrey Aubry Auburn Auden Audie Audra Audrey Audry August Augusta Augustine Aurora Austen Austin Austyn Autry Autumn Ava Aven Avery Avi Avian Avion Avis Aviv Avo Avon Avry Ayan Aydan Ayden Ayodele Ayomide Ayven Azari Azariah Aziah Azriel Azul Baby Babygirl Bailey Baily Baker Bao Barbara Barrett Barrie Barry Basil Bawi Bayan Baylee Bayler Bayley Baylor Beatrice Beatriz Beau Beckett Beckham Bee Bela Belen Bellamy Ben Benito Benjamin Bennett Bennie Bentlee Bentley Bentlie Berenice Bergen Berkeley Berkley Berlin Bernard Bernell Bernice Bernie Berry Bertha Bertie Beryl Bessie Beth Bethel Betty Beverley Beverly Bexley Bianca Bill Billie Billy Billye Binh Blaine Blair Blaise Blaize Blake Blakeley Blakely Blanca Blayke Blayne Blaze Bless Blessing Bleu Blue Bo Bobbie Bobby Bobbye Bodhi Bonnie Bonny Bora Boston Bowie Braden Bradlee Bradley Brady Braeden Braedyn Braelyn Brailyn Bralyn Brandi Brandon Brandy Brandyn Brantlee Brantley Braxton Brayden Braylen Braylin Braylyn Brazos Breanna Brecken Breckyn Brenda Brendan Brennan Brennen Brent Brentley Breon Breslin Brett Brian Briana Brianna Briar Brice Bridget Brighton Briley Brion Bristol Brit Britain Britney Britt Brittan Brittani Brittany Britten Brittney Britton Brixton Brodie Brody Brogan Bronx Brook Brooke Brooklyn Brooklynn Brooks Brownie Bruce Bryan Bryar Bryce Brylee Brylen Bryn Bryson Burnell Burnice Cache Cade Caden Cadence Cadyn Caelan Caelin Cai Caiden Caidyn Cairo Caitlin Caitlyn Caleb Cali Callahan Callan Callen Callie Calvin Cam Camari Camden Camdyn Cameran Cameron Cameryn Camile Camille Campbell Camren Camrin Camron Camryn Canaan Candace Candice Caprice Cara Carey Carina Carl Carla Carlie Carlin Carlisle Carlos Carlton Carly Carman Carmel Carmen Carmin Carmine Carmon Carnell Carol Carole Carolina Caroline Caroll Carolyn Caron Carrie Carrington Carrol Carroll Carsen Carson Carsyn Carter Cartier Cary Casey Cashmere Cassandra Cassidy Cassie Catalina Catherine Catlin Cayce Cayden Cecil Cecilia Cedar Celestine Cesar Chad Chai Chaim Chaise Chaka Chan Chance Chandler Chanel Chaney Channing Chantelle Charles Charleston Charley Charlie Charlotte Charly Chase Chau Chayanne Chayse Chaz Che Chee Chelsea Cheng Cher Cherokee Cheryl Chesley Chester Chevy Cheyenne Chi Chia Chidera Child Chiquita Chisom Chloe Chong Choua Chris Christain Christan Christen Christia Christian Christie Christin Christina Christine Christopher Christy Ciara Ciel Cierra Cindy Clair Claire Clare Clarence Clark Clarke Clary Claude Claudia Claudie Claudio Clayton Cledith Clemence Clemmie Cleo Cleofas Cleotha Cletus Clide Clifford Climmie Clois Clovis Clyde Coby Codi Codie Cody Cohen Colby Cole Colin Colleen Collen Collier Collin Collins Collyn Colon Colton Concepcion Conley Conner Connie Connor Consepcion Constance Consuelo Cooper Copeland Corbin Corby Corbyn Corey Cori Corie Corin Corliss Cornelious Cornelius Corrie Corry Cortney Cory Coty Courtney Cove Coy Craig Cree Crimson Cris Cristal Cristian Cristina Crosby Crosley Cruz Crystal Curley Curtis Cyan Cynthia Cypress Daelyn Daisy Dakoda Dakota Dakotah Dale Dallas Dallis Dalton Damani Damari Damaria Damaris Damian Damien Damon Damoni Dan Dana Danell Dani Daniel Daniela Daniele Daniell Danielle Dann Dannie Danny Dany Danyale Danyel Danyell Dao Dara Darby Darcy Darian Dariel Darien Darin Darion Daris Darius Darl Darlene Darnell Darnelle Darrell Darren Darrian Darriel Darrien Darryl Daryan Daryl Daryn Dasani Dashawn Davi Davian David Davie Davion Davis Davon Davonne Davy Dawn Dawson Dayan Dayle Daylen Daylin Dayton De Dean Deandra Deandre Deandrea Deane Deanna Deavion Debbie Deborah Debra Decklyn Declan Dee Delaine Delane Delaney Delano Delia Dell Delma Delphine Demani Demari Demaris Demetri Demetric Demetrice Demetris Demetrius Dempsey Denali Denim Denis Denise Deniz Dennie Dennis Denny Denver Denym Deon Deondra Derek Dereon Derin Derrick Deshaun Deshawn Deshon Deshone Desi Desmond Dessie Destin Destiny Deundra Devan Deven Devin Devine Devon Devonne Devyn Dewey Dexter Dezi Diamante Diamond Diana Diane Diarra Dickie Diego Dillan Dillon Dilpreet Dimitri Dion Dione Dionne Dior Divine Dixie Dolores Domanique Dominga Domingo Dominic Dominick Dominik Dominique Dominque Domonique Don Donald Dondi Donell Donelle Donna Donnell Donnie Donnis Donzell Dora Dorian Doris Dorothy Dorris Dorsey Dorsie Dossie Doua Douglas Doyce Dream Drew Dru Duane Dung Dustin Dusty Dwan Dylan Dylann Dyllan Earl Earle Earlie Early Earnest Earnie Easton Eastyn Ebbie Ebony Eddie Edell Eden Edgar Edith Edlin Edna Edris Eduardo Edward Edwin Egypt Eh Eileen Ekam Elan Eldred Eleanor Elena Elgie Eli Elia Eliah Elian Eliana Elie Elijah Eliot Elisa Elisabeth Elise Elisha Eliya Eliyah Elizabeth Ella Ellen Ellery Ellie Ellington Elliot Elliott Ellis Ellison Elma Elmer Elmo Elsie Elton Elva Elvie Elvis Elwood Ely Elza Elzie Eman Emani Emanuel Emari Embry Emerson Emersyn Emery Emile Emilee Emilie Emily Emma Emmanuel Emmanuelle Emory Emry Emrys Encarnacion Enes English Enis Ennis Enrique Eri Eric Erica Erick Erie Erik Erika Erin Erinn Eris Ermal Ernest Ernesto Ernie Esmeralda Esperanza Essie Esteban Estefani Estel Estell Ester Esther Ethan Ethel Eugene Eula Eunice Eva Evan Evann Evelyn Ever Everest Everett Everette Evin Evon Evyn Ezell Ezra Ezrah Fabian Fabiola Faith Fallon Fannie Farris Farron Fatima Fay Felice Felicia Felipe Felis Felix Feliz Female Fern Fernando Finley Finn Finnley Florence Floy Floyce Floyd Flynn Forest Forrest Foy Fran Frances Francesc Francesca Francis Francisca Francisco Frank Frankie Franklin Fred Freddie Frederick Fredi Freedom Gabrial Gabriel Gabriela Gabriele Gabriell Gabriella Gabrielle Gael Gagandeep Gage Gail Gal Gale Galen Garnell Garnet Garnett Garrett Gary Gavin Gay Gayle Gaylen Gaylon Gaynell Gene Genesis Geneva Gennie Gentry George Georgia Georgie Ger Gerald Geraldine Gerardo Germaine Gerry Giani Gianni Gianny Gilbert Gilberto Gina Giovanni Giovanny Giselle Gladys Glen Glenn Glennis Gloria Glyn Glynn Golden Goldie Gordie Gordon Grace Gracen Gracie Graciela Gradie Grady Grant Gray Graycen Graysen Grayson Greer Gregg Gregoria Gregory Grey Greyson Grier Griffin Grisel Griselda Grover Guadalupe Guadlupe Guillermo Gunnar Gurjot Gurnoor Gurpreet Gussie Gustavo Gwyn Ha Hadley Hadyn Haiden Haidyn Haile Hailee Hailey Hala Haleigh Halen Haley Halley Hallie Halo Halsey Halston Hamdi Han Hanh Hani Hanna Hannah Harbor Harjot Harlan Harlee Harlem Harley Harlie Harlow Harlyn Harman Harnoor Harold Harper Harpreet Harrison Harry Hartley Haru Harvey Hassan Haven Hayden Hayes Haylee Haylen Hayley Hazel Heather Heaven Hector Helen Hendrix Henley Henri Henry Herbert Herman Hester Hiawatha Hien Hilary Hilda Hildred Hillary Hillery Hinckley Hoa Hoang Holden Holland Hollie Hollis Holly Homer Hong Honor Hope Houa Howard Hudson Hudsyn Hugh Hugo Hunter Huntley Huxley Hyun Ian Ida Ifeoluwa Ikea Ilya Iman Imani Imari India Indiana Indie Indigo Indy Ines Inez Infant Infantof Ingrid Ira Iran Irene Ireoluwa Irie Iris Irma Irving Isa Isaac Isabel Isabella Isabelle Isaiah Isamar Israel Issa Itzae Itzel Ivan Ivey Ivon Ivory Ivy Izel Izzy Ja Jace Jacey Jack Jackie Jackson Jacky Jaclyn Jacob Jacque Jacqueline Jacques Jacy Jada Jadan Jade Jaden Jadin Jadyn Jae Jaeden Jaedyn Jael Jaelen Jaelin Jaelyn Jagger Jahlani Jai Jaidan Jaiden Jaidin Jaidyn Jailyn Jaime Jaimie Jake Jalani Jaleen Jaleesa Jalen Jalin Jalyn Jalynn Jamal Jamari Jamaria Jamel Jamelle James Jameson Jamey Jami Jamie Jamile Jamison Jammie Jamy Jan Janae Jane Janee Janelle Janet Janice Janie Janiel Jaquay Jared Jasani Jasdeep Jasiah Jasiyah Jaskirat Jasmeet Jasmin Jasmine Jason Jasper Jaspreet Javier Javon Jax Jaxon Jaxyn Jay Jayce Jaycee Jaydan Jayde Jaydee Jaydeen Jayden Jaydenn Jaydin Jaydn Jaydyn Jaye Jayla Jaylan Jayleen Jaylen Jaylin Jaylon Jaylyn Jaylynn Jayme Jaziah Jazmin Jazmine Jazz Jean Jeanette Jeffery Jeffie Jeffrey Jelani Jency Jenesis Jenna Jennifer Jenny Jensen Jensyn Jentry Jere Jeremiah Jeremy Jeriah Jermaine Jermiah Jerome Jerre Jerry Jersey Jesiah Jess Jesse Jessi Jessiah Jessica Jessie Jessy Jesus Jett Jewel Jewell Jezreel Jia Jiayi Jill Jillian Jim Jimi Jimmie Jimmy Jin Jireh Jo Joan Joann Joanna Joanne Jocelyn Jodeci Jodi Jodie Jody Joe Joel Joell Joelle Joey Johann Johanna John Johnathan Johnathon Johnie Johnnie Johnny Johnnye Jon Jona Jonah Jonathan Jonathon Jonell Joni Jonnie Jonte Jordan Jorden Jordin Jordon Jordy Jordyn Jorge Jory Jose Josefina Joseph Josephine Josey Joshua Josiah Josie Josue Joud Jourdan Journey Jovan Jovani Jovi Jovon Joy Joyce Jrue Juan Juana Juanita Judah Jude Judith Judy Juel Jule Jules Julia Julian Juliana Julie Julio Jullian July June Jung Junie Junior Juno Jupiter Justice Justin Justine Justis Justus Justyce Ka Kacey Kacy Kaden Kadence Kadyn Kaedyn Kaegan Kaelan Kaelin Kaena Kahne Kai Kaiden Kaidence Kaidyn Kailan Kailen Kailey Kaimana Kainoa Kairi Kairo Kaisyn Kaitlin Kaitlyn Kaitlynn Kalani Kaleb Kalei Kalen Kali Kalin Kallen Kalyn Kam Kamalani Kamalei Kamani Kamari Kamauri Kamden Kamdyn Kameron Kameryn Kamil Kamren Kamrin Kamron Kamryn Kamsiyochukwu Kanon Kao Kaoru Kara Karan Kareem Kareen Karel Karen Karey Kari Karim Karina Karl Karla Karma Karol Karon Karry Karsen Karson Karsyn Karter Kary Kasey Kashmere Kashmir Kassandra Kasyn Katelyn Katherine Kathleen Kathryn Kathy Katie Katrina Kawena Kay Kaya Kayce Kayden Kaydence Kaydin Kaye Kayla Kaylan Kayle Kaylee Kayleigh Kaylen Kaylin Kaylon Kayron Kaysen Kayson Kazi Kc Keagan Keahi Keala Keanu Keaton Keegan Keelan Keelyn Keena Keith Kekoa Kelby Kelcey Kelechi Kellan Kellen Kelley Kelli Kelly Kelsey Kelvin Kem Kemani Kemari Kemoni Kendal Kendall Kendel Kendell Kendra Kendrick Kenia Kenley Kenna Kennedy Kenneth Kenny Kensley Kentrell Kenya Kenyata Kenyatta Kenyetta Kenzie Keona Keri Kerry Keshawn Kevin Kevyn Keylen Keylin Keyon Khai Khali Khamani Khamari Khanh Khari Kharter Khristian Kia Kiana Kiara Kieran Kiernan Kijana Kiley Kim Kimani Kimber Kimberly Kimi Kimmie Kingsley Kinnick Kinsler Kinsley Kinta Kippy Kiran Kirby Kirin Kirsten Kit Kiyomi Koa Kobe Kobi Kobie Koda Kodi Kodie Kody Koi Kolbie Kolby Kona Kooper Korbyn Korey Kori Kortney Kory Kourtney Koy Kree Kris Krishna Kriss Kristen Kristian Kristin Kristina Kristopher Krystal Krystian Kylan Kylar Kyle Kylee Kylen Kyler Kylie Kylin Kym Kymani Kyndal Kyndall Kyree Kyrie La Laakea Lacey Lacy Ladell Lael Laiken Laine Lajuan Lake Lakeisha Laken Lakin Lakota Lamar Lamarr Lan Landen Landis Landon Landry Landyn Lane Langston Lanier Lannie Laquan Laramie Larkin Larrie Larry Larue Lasean Lashaun Lashawn Lashon Lashun Latasha Latisha Latonya Latoya Latrell Lattie Laura Laurel Lauren Laurence Laurie Lauryn Lavaughn Lavell Lavelle Lavern Laverne Lavon Lavoris Lawrence Lawson Layla Layne Layton Le Leah Lean Lee Legacy Legend Leigh Leighton Lemmie Lennie Lennis Lennix Lennon Lennox Lenny Lenox Leo Leon Leonard Leonardo Leone Leroy Leshawn Lesley Leslie Lesly Lessie Lester Leticia Levern Levi Levon Lewis Lexie Lexington Lexus Leyton Li Liam Lian Liliana Lillian Lillie Lilly Lily Lincoln Linda Linden Lindley Lindsay Lindsey Lindy Linh Linn Linnie Lior Lisa Lizeth Lizette Lloyd Logan Loghan Lois Loise Londen London Londyn Loney Lonie Lonnie Loraine Loran Loren Lorena Lorenza Loretta Lori Lorin Lorraine Lory Lou Louie Louis Louise Lourdes Love Lovell Lovie Lowen Loy Loyal Loyalty Loyce Loyd Luan Luca Lucas Lucca Lucero Lucia Lucille Lucky Lucy Luddie Ludie Lue Lugene Luis Luka Lukas Luke Lula Lunden Lupe Luther Luverne Lux Luz Ly Lydia Lyle Lyn Lyndell Lynden Lyndon Lynell Lynn Lynne Lyric Lyrik Mackenzi Mackenzie Mackie Macon Macy Madden Maddix Maddox Maddux Madeleine Madeline Madelyn Madison Mae Maeson Maggie Mahari Mai Maika Maira Maison Majesty Makana Makayla Makell Makena Makenzie Maki Makiah Malachi Malik Mallie Mallory Man Mana Mandeep Mandy Manjot Mannie Manpreet Manuel Manuela Manvir Marc Marcel Marcell Marcelle Marco Marcos Marcus Marcy Margaret Margarita Maria Mariah Marian Mariana Maribel Marice Maricela Marie Mariela Marilyn Marin Mario Marion Marisela Marisol Marissa Maritza Marjorie Mark Markie Marlee Marlen Marlene Marley Marlin Marlo Marlow Marlowe Marlyn Marne Marquelle Marquette Marquis Marquita Marrion Marshall Marshell Marta Martha Martin Martina Martine Marty Marvel Marvin Marvis Mary Maryland Mason Masyn Matilde Matisse Matthew Mattie Matty Maureen Maurice Maven Maverick Mavis Max Maxi Maxie Maxwell Maya Mayan Mayra Maysen Mayson Mckay Mckenna Mckenzie Mckinley Meaghan Mecca Megan Meghan Mel Melanie Melissa Melvin Memphis Mena Mendy Meng Merced Mercedes Meredith Merle Merlin Merlyn Merrick Merril Merrill Merritt Mervin Meryl Messiah Meyer Mia Mica Micah Micaiah Micha Michael Michaela Michal Micheal Michel Michele Michell Michelle Mickey Mickie Micky Miguel Mika Mikah Mikal Mike Mikel Mikell Miko Milagro Milan Mildred Miles Miller Millie Mills Milo Milton Min Mina Ming Minh Minnie Miracle Miriam Mirza Mischa Misha Misty Mitchell Mitsuru Moises Molly Monet Monica Monique Monroe Monserrate Monta Montana Monte Montez Montgomery Montie Morgan Morgen Morris Morrison Mozell Munachimso Munachiso Murel Muriel Murl Murphy Murrell My Mycah Mychal Myka Mykah Mykel Mylan Myles Myrl Myrle Nabil Nadia Nai Najee Nakia Name Nana Nancy Naseem Nasiah Nasim Natalia Natalie Natasha Nate Nathan Nathaniel Natividad Navdeep Naveen Navi Navid Navjot Navy Nazaret Nazareth Naziah Neema Neftali Neftaly Negan Nehemiah Neko Nereida Neri Nery Nevada Nevaeh Newborn Ngawang Nhia Nichelle Nicholas Nickie Nicky Nico Nicola Nicole Nieves Nihal Nijah Nikia Nikita Nikki Niko Nikola Nina Nixon Noa Noah Noam Noble Noe Noel Nolan Nolie Noor Nora Nori Norma Norman Norvell Notnamed Nou Nour Nova Novah Numa Nuri Nyjah Oaklee Oakley Oaklyn Ocean Ocie Octavia Odalis Oddie Odell Odie Odis Okie Ola Olamide Olga Olie Olivia Ollie Oluwadamilola Oluwadarasimi Oluwademilade Oluwanifemi Oluwasemilore Oluwatamilore Omar Omari Omega Ona Onie Onnie Onyx Opal Opha Ora Orel Oreoluwa Ori Orie Orion Orville Osa Oscar Osie Osiris Ossie Otha Otis Ottie Ova Oval Ovie Owen Ozell Ozie Ozzie Pablo Page Paige Palmer Pamela Paola Paris Parker Parris Parrish Pat Patrice Patricia Patrick Patsy Patty Paul Paula Pauline Paxton Paxtyn Payden Payson Payten Payton Paz Peace Pearl Pearlie Pearly Pedro Peggy Peni Percy Perla Pernell Perris Perry Peter Petra Peyton Phenix Philip Phillip Phoenix Phuc Phuong Phyllis Pierce Pilar Piper Porter Portia Posey Praise Precious Presley Pressley Preston Prestyn Prince Princess Priscilla Promise Puneet Quin Quincey Quincy Quinlan Quinn Quinton Rachael Rachel Rae Rael Rafael Raiden Rain Raine Rajdeep Raleigh Ralph Rama Rameen Ramon Ramona Ramsey Randal Randall Rande Randi Randy Rani Raquel Rashaun Rashawn Rasheen Rashida Raul Raven Ravneet Ravon Ray Rayaan Rayan Rayden Raylan Raylen Raylin Raymond Rayn Rayne Raynell Rayshawn Reagan Rebecca Rebel Reda Redell Reece Reed Reegan Reese Refugio Regan Reggie Regina Reginald Rei Reid Reign Reiley Reilly Remi Remington Remmy Remy Ren Rene Renee Renne Rennie Rey Reyes Rhea Rhiley Rhonda Rhyan Rhys Rhythm Rian Ricardo Ricci Richard Richie Rickey Ricki Rickie Ricky Ridley Rigoberto Riki Rikki Rilee Riley Rilyn Rio Rion Riot Ripley Rita River Rivers Riyan Robbie Robbin Robert Roberto Robie Robin Robyn Rochelle Rocio Rocky Rodney Rodolfo Rogelio Roger Rogue Roma Romaine Roman Romie Ronald Ronda Roni Ronin Ronit Ronnie Ronny Rooney Roosevelt Rory Rosa Rosario Rose Roshawn Rosie Rosio Ross Rossie Rowan Rowen Rowyn Roy Royal Royale Royalty Royce Rozell Ruben Ruby Rudell Rudi Rudolph Rudy Rumi Russell Rusty Ruth Ryan Ryann Ryder Ryen Ryker Rylan Ryland Rylee Rylen Ryley Rylie Rylin Ryver Saba Sabree Sabrina Sacha Sade Sagan Sage Sai Saige Sailor Sakae Salam Salem Sally Salome Salvador Salvatore Sam Samantha Samar Samari Sami Sammie Sammy Samuel San Sandeep Sandra Sandy Sang Santana Santiago Santos Sara Sarah Sascha Sasha Saul Savanna Savannah Sawyer Saylor Schuyler Schyler Scott Scottie Scout Sean Sebastian Seena Sehaj Sekani Selena Selma Semaj Seneca Seng Sequoia Sequoyah Serenity Sergio Seth Seven Sevyn Sha Shade Shadi Shae Shaheen Shai Shalom Shamari Shamel Shan Shane Shannan Shannen Shannon Shanon Shanti Shaquan Shaquille Sharon Sharone Sharron Shaun Shaune Shaunte Shavon Shawn Shawndell Shawnee Shawnta Shay Shaya Shaye Shayla Shayne Shea Sheila Shelby Shelley Shellie Shelly Sheridan Sheron Sherrill Sherron Sherry Shia Shian Shilo Shiloh Shine Shirl Shirley Shiva Shomari Shondell Shonte Shoua Sia Siah Sidney Sierra Silvia Simcha Simmie Simone Simran Sina Sinai Sincere Sivan Sky Skye Skylan Skylar Skyler Skylor Slater Sloan Socorro Sofia Sol Son Sonam Sonia Sonnie Sonny Sophana Sophia Sophie Sora Soren Soua Spencer Spenser Stacey Stacy Stanley Stephan Stephane Stephanie Stephen Sterling Steve Steven Stevie Storm Stormy Sue Sukhman Sullivan Sully Summer Sun Sung Sunny Surya Susan Susana Sutton Suzanne Sydney Sylvester Sylvia Syncere Tai Taj Tal Talin Talyn Tam Tamar Tamara Tamari Tamer Tamika Tammy Tanay Tandy Tania Tanis Tanisha Tanner Tanveer Tanya Tara Taran Tarin Taryn Tashawn Tate Tatiana Tatum Tavon Taylan Taylen Tayler Taylin Taylor Taytum Teagan Teagen Teddie Teddy Teegan Tegan Teigan Teigen Temiloluwa Temple Tennessee Tennyson Tenzin Teresa Terez Terin Terran Terrance Terrell Terren Terrence Terri Terrill Terrion Terry Terryl Tessa Tevis Thanh Thao Thelma Theo Theodore Theresa Thien Thomas Thuan Tia Tiana Tiara Tien Tiera Tiernan Tierra Tiffany Timber Timmie Timothy Tina Tobey Tobi Tobie Toby Todd Toi Tom Tomie Tommie Tommy Toni Tonie Tonnie Tony Tonya Torey Tori Torrance Torrey Torrie Tory Toryn Toy Trace Tracey Tracy Tramaine Travis Tremaine Trenell Trenidad Trenton Trevor Trine Trini Trinidad Trinity Tristan Tristen Tristian Tristin Triston Tristyn Troy Tru True Truth Trystan Trystin Tu Tucker Tuyen Ty Tye Tylar Tylee Tyler Tylor Tyree Tyrese Tyrion Tyrone Udell Unborn Unique Unknown Unkown Unnamed Uriah Uriel Uriyah Vada Val Valen Valencia Valentine Valeria Valerie Van Vandy Vanessa Vanna Vashon Vaughn Velma Venice Ventura Verdell Verl Verle Verlin Verlon Verlyn Verna Verne Vernell Verner Vernice Vernie Vernon Veronica Versie Vertis Vestal Vester Vi Vickey Vickie Vicky Victor Victoria Vincent Vinnie Virgie Virgil Virginia Vivian Void Vola Von Wai Walker Wally Walter Wanda Warren Waver Waverly Waylon Wayne Wei Wen Wendelin Wendy Wesley Weston Whitley Whitney Wilder Wiley Wilfred Will Willard William Willie Willis Wilma Wilmer Winfred Wing Winifred Winslow Winter Wisdom Woodie Wren Wrigley Wyatt Wylie Wynn Xander Xavier Xiao Xue Yadira Yael Yahir Yan Yancy Yang Yannis Yared Yarel Yareth Yee Yen Yeng Yer Yesenia Yessenia Yi Yihan Ying Ynes Yolanda Yoltzin Yong Yoshi Yoshimi Young Ysabel Yu Yuan Yue Yuki Yuma Yuri Yuval Yvette Yvonne Zachary Zailyn Zain Zaire Zakaria Zamari Zander Zane Zaylin Zen Zephaniah Zephyr Zeppelin Zhane Zi Zia Ziah Ziggy Zion Zixuan Zoe Zoey Zuri Zuriel Zyaire Zyan Zyon\n"
     ]
    }
   ],
   "source": [
    "both_sex_name_query =\"\"\"\n",
    "SELECT\n",
    "    name\n",
    "FROM (\"\"\"+ most_popular_name_query +\"\"\")\n",
    "GROUP BY name\n",
    "HAVING COUNT(*) = 2\n",
    "ORDER BY name\n",
    "\"\"\"\n",
    "\n",
    "both_sex_name_result = bq.query(both_sex_name_query).to_dataframe()\n",
    "\n",
    "print('Unisex names: \\nNumber of unisex names: ' + str(both_sex_name_result.shape[0]) + '\\nList of names: ')\n",
    "\n",
    "unisex_names = \"\"\n",
    "\n",
    "for i, name in enumerate(both_sex_name_result['name']):\n",
    "    unisex_names = unisex_names + \" \" + name\n",
    "print(unisex_names)"
   ]
  },
  {
   "cell_type": "markdown",
   "execution_count": null,
   "metadata": {
    "papermill": {
     "duration": 0.008782,
     "end_time": "2020-09-06T18:40:16.243681",
     "exception": false,
     "start_time": "2020-09-06T18:40:16.234899",
     "status": "completed"
    },
    "tags": []
   },
   "source": [
    "This list has a lot of weird results. For example:\n",
    "- Emily, Giselle, Gladys, Sylvia ... (sounds weird for males)\n",
    "- Adam, Mario, Pablo, Tristan ... (sounds weird for females)\n",
    "\n",
    "**How to clean the results?** Using the proportion if the proportion is in the same magnitude the name could be use for male and females."
   ]
  },
  {
   "cell_type": "code",
   "execution_count": 8,
   "metadata": {
    "execution": {
     "iopub.execute_input": "2020-09-06T18:40:16.275182Z",
     "iopub.status.busy": "2020-09-06T18:40:16.274235Z",
     "iopub.status.idle": "2020-09-06T18:40:17.191212Z",
     "shell.execute_reply": "2020-09-06T18:40:17.191938Z"
    },
    "papermill": {
     "duration": 0.939903,
     "end_time": "2020-09-06T18:40:17.192137",
     "exception": false,
     "start_time": "2020-09-06T18:40:16.252234",
     "status": "completed"
    },
    "tags": []
   },
   "outputs": [
    {
     "name": "stdout",
     "output_type": "stream",
     "text": [
      "Unisex names: \n",
      "Number of unisex names: 154\n",
      "Percentage of reduction: 95.02% \n",
      "List of names: \n",
      " Ali Alva Amari Angel Arden Ariel Armani Artie Ashton Aubrey Austyn Avery Azariah Baby Billie Blair Briar Britt Camdyn Campbell Carey Carrol Casey Chandler Channing Charley Claudie Cleo Dakota Dana Darian Dee Devan Devon Devyn Dominique Dominque Dusty Elisha Emerson Emery Emory Finley Frankie Gale Garnett Gerry Guadalupe Harley Hayden Infant Ivory Jackie Jadyn Jael Jaiden Jaidyn Jaime Jamie Jan Jaylin Jessie Jody Johnie Johnnie Jordan Justice Kalani Kamari Karon Kasey Kendal Kendall Kenyatta Kerry Kirby Kris Kristian Lacy Landry Lashawn Lavern Laverne Lavon Lee Leighton Lennon Lennox Leslie Loren Lorenza Lupe Lynn Marion Marlyn Maxie Mckinley Merle Michal Michel Milan Monroe Montana Nicola Noel Oakley Ocie Odell Ollie Palmer Pat Payton Peyton Phoenix Quinn Reese Reilly Remington Remy Rene Rian Riley River Robbie Rory Rosario Rowan Royal Ryley Sage Sammie Santana Sawyer Shay Shea Shiloh Sidney Sky Skylar Skyler Sol Stevie Sunny Sutton Tatum Taylor Terry Tommie Tory Tracy Trinidad Unknown Willie Yael\n"
     ]
    }
   ],
   "source": [
    "limit = 5\n",
    "min_appearances = 1000\n",
    "\n",
    "clean_unisex_subquery = \"\"\"\n",
    "SELECT\n",
    "    name,\n",
    "    appearances\n",
    "FROM (\"\"\"+ most_popular_name_query +\"\"\")\n",
    "WHERE name IN (\"\"\"+ both_sex_name_query + \"\"\") AND gender =\n",
    "\"\"\"\n",
    "\n",
    "clean_unisex_query = \"\"\"\n",
    "SELECT\n",
    "    FEMALES.name\n",
    "FROM (\"\"\"+ clean_unisex_subquery + \"\"\" 'F') FEMALES\n",
    "INNER JOIN (\"\"\"+ clean_unisex_subquery  + \"\"\" 'M') MALES ON FEMALES.name = MALES.name\n",
    "WHERE FEMALES.appearances/MALES.appearances <= \"\"\"+ str(limit) +\"\"\" AND MALES.appearances/FEMALES.appearances <= \"\"\" + str(limit) + \"\"\" \n",
    "AND FEMALES.appearances > \"\"\" + str(min_appearances) + \"\"\" AND MALES.appearances > \"\"\" + str(min_appearances) + \"\"\"\n",
    "ORDER BY FEMALES.name\n",
    "\"\"\"\n",
    "\n",
    "\n",
    "clean_unisex_result = bq.query(clean_unisex_query).to_dataframe()\n",
    "\n",
    "print('Unisex names: \\nNumber of unisex names: ' + str(clean_unisex_result.shape[0]) + '\\nPercentage of reduction: '+ str(round(((both_sex_name_result.shape[0]-clean_unisex_result.shape[0])/both_sex_name_result.shape[0])*100 , 2)) + '% \\nList of names: ')\n",
    "\n",
    "unisex_clean_names = \"\"\n",
    "\n",
    "for i, name in enumerate(clean_unisex_result['name']):\n",
    "    unisex_clean_names = unisex_clean_names + \" \" + name\n",
    "print(unisex_clean_names)\n"
   ]
  },
  {
   "cell_type": "markdown",
   "execution_count": null,
   "metadata": {
    "papermill": {
     "duration": 0.00801,
     "end_time": "2020-09-06T18:40:17.208731",
     "exception": false,
     "start_time": "2020-09-06T18:40:17.200721",
     "status": "completed"
    },
    "tags": []
   },
   "source": [
    "Something peculiar found is that the name **Unknown**\n",
    "### How many uknowns are?\n"
   ]
  },
  {
   "cell_type": "code",
   "execution_count": 9,
   "metadata": {
    "execution": {
     "iopub.execute_input": "2020-09-06T18:40:17.236296Z",
     "iopub.status.busy": "2020-09-06T18:40:17.235379Z",
     "iopub.status.idle": "2020-09-06T18:40:18.062027Z",
     "shell.execute_reply": "2020-09-06T18:40:18.061383Z"
    },
    "papermill": {
     "duration": 0.84498,
     "end_time": "2020-09-06T18:40:18.062172",
     "exception": false,
     "start_time": "2020-09-06T18:40:17.217192",
     "status": "completed"
    },
    "tags": []
   },
   "outputs": [
    {
     "name": "stdout",
     "output_type": "stream",
     "text": [
      "There are a total number of 14551 unknowns\n",
      "Females: 7444\n",
      "Males: 7107\n"
     ]
    }
   ],
   "source": [
    "uknowns_query = most_popular_name_query + \"\"\"HAVING name = 'Unknown'\"\"\"\n",
    "\n",
    "uknowns_result = bq.query(uknowns_query).to_dataframe()\n",
    "\n",
    "print('There are a total number of ' + str(uknowns_result['appearances'].sum()) + ' unknowns')\n",
    "print('Females: ' + str(uknowns_result[uknowns_result['gender'] == 'F'].iloc[0]['appearances']) )\n",
    "print('Males: '+ str(uknowns_result[uknowns_result['gender'] == 'M'].iloc[0]['appearances']))"
   ]
  },
  {
   "cell_type": "markdown",
   "execution_count": null,
   "metadata": {
    "papermill": {
     "duration": 0.00859,
     "end_time": "2020-09-06T18:40:18.079806",
     "exception": false,
     "start_time": "2020-09-06T18:40:18.071216",
     "status": "completed"
    },
    "tags": []
   },
   "source": [
    "Is this a failure? Probably\n",
    "Has this improved year after year? Let's see this"
   ]
  },
  {
   "cell_type": "code",
   "execution_count": 10,
   "metadata": {
    "execution": {
     "iopub.execute_input": "2020-09-06T18:40:18.108276Z",
     "iopub.status.busy": "2020-09-06T18:40:18.107449Z",
     "iopub.status.idle": "2020-09-06T18:40:19.768637Z",
     "shell.execute_reply": "2020-09-06T18:40:19.767929Z"
    },
    "papermill": {
     "duration": 1.679905,
     "end_time": "2020-09-06T18:40:19.768802",
     "exception": false,
     "start_time": "2020-09-06T18:40:18.088897",
     "status": "completed"
    },
    "tags": []
   },
   "outputs": [
    {
     "data": {
      "image/png": "[encoded data removed]",
      "text/plain": [
       "<Figure size 432x288 with 1 Axes>"
      ]
     },
     "metadata": {},
     "output_type": "display_data"
    }
   ],
   "source": [
    "uknowns_by_year_query = \"\"\"\n",
    "SELECT \n",
    "    year,\n",
    "    SUM(number) appearances\n",
    "FROM\n",
    "    `bigquery-public-data.usa_names.usa_1910_current`\n",
    "GROUP BY  year, name\n",
    "HAVING name = 'Unknown'\n",
    "ORDER BY year\n",
    "\"\"\"\n",
    "\n",
    "uknowns_by_year_result = bq.query(uknowns_by_year_query).to_dataframe()\n",
    "\n",
    "sns.set_style(\"darkgrid\")\n",
    "fig, ax = plt.subplots()\n",
    "sns.lineplot(x=\"year\", y=\"appearances\", \n",
    "             data=uknowns_by_year_result)\n",
    "plt.title('Unknown appearances by year')\n",
    "plt.show()"
   ]
  }
 ],
 "metadata": {
  "kernelspec": {
   "display_name": "Python 3",
   "language": "python",
   "name": "python3"
  },
  "language_info": {
   "codemirror_mode": {
    "name": "ipython",
    "version": 3
   },
   "file_extension": ".py",
   "mimetype": "text/x-python",
   "name": "python",
   "nbconvert_exporter": "python",
   "pygments_lexer": "ipython3",
   "version": "3.7.6"
  },
  "papermill": {
   "duration": 19.882508,
   "end_time": "2020-09-06T18:40:19.885824",
   "environment_variables": {},
   "exception": null,
   "input_path": "__notebook__.ipynb",
   "output_path": "__notebook__.ipynb",
   "parameters": {},
   "start_time": "2020-09-06T18:40:00.003316",
   "version": "2.1.0"
  }
 },
 "nbformat": 4,
 "nbformat_minor": 4
}
